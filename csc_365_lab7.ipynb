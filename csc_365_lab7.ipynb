{
 "cells": [
  {
   "cell_type": "markdown",
   "metadata": {
    "colab_type": "text",
    "id": "view-in-github"
   },
   "source": [
    "<a href=\"https://colab.research.google.com/github/ryanvuu/csc-365-lab7/blob/main/csc_365_lab7.ipynb\" target=\"_parent\"><img src=\"https://colab.research.google.com/assets/colab-badge.svg\" alt=\"Open In Colab\"/></a>"
   ]
  },
  {
   "cell_type": "markdown",
   "metadata": {
    "id": "sNMF0OvUvt6h"
   },
   "source": [
    "Install libraries"
   ]
  },
  {
   "cell_type": "code",
   "execution_count": 2,
   "metadata": {
    "id": "1guNv1Oynh_7"
   },
   "outputs": [
    {
     "name": "stderr",
     "output_type": "stream",
     "text": [
      "\n",
      "[notice] A new release of pip is available: 23.0.1 -> 24.3.1\n",
      "[notice] To update, run: C:\\Users\\linki\\AppData\\Local\\Microsoft\\WindowsApps\\PythonSoftwareFoundation.Python.3.10_qbz5n2kfra8p0\\python.exe -m pip install --upgrade pip\n"
     ]
    },
    {
     "name": "stdout",
     "output_type": "stream",
     "text": [
      "Requirement already satisfied: mysql-connector-python in c:\\users\\linki\\appdata\\local\\packages\\pythonsoftwarefoundation.python.3.10_qbz5n2kfra8p0\\localcache\\local-packages\\python310\\site-packages (9.1.0)\n",
      "Note: you may need to restart the kernel to use updated packages.\n"
     ]
    }
   ],
   "source": [
    "%pip install mysql-connector-python\n",
    "import getpass\n",
    "import mysql.connector"
   ]
  },
  {
   "cell_type": "markdown",
   "metadata": {},
   "source": [
    "### FR1: Rooms and Rates ###"
   ]
  },
  {
   "cell_type": "code",
   "execution_count": null,
   "metadata": {},
   "outputs": [],
   "source": [
    "def print_rooms_rates(conn):\n",
    "    with conn.cursor() as cursor:\n",
    "        cursor.execute(\"\"\"\n",
    "                        WITH PopTable AS (\n",
    "                            SELECT lab7_rooms.RoomCode,\n",
    "                                lab7_rooms.RoomName,\n",
    "                                lab7_rooms.Beds,\n",
    "                                lab7_rooms.bedType,\n",
    "                                lab7_rooms.maxOcc,\n",
    "                                lab7_rooms.basePrice,\n",
    "                                lab7_rooms.decor,\n",
    "                                ROUND(SUM(COALESCE(DATEDIFF(lab7_reservations.Checkout, lab7_reservations.CheckIn), 0)) / 180, 2) AS PopScore\n",
    "                            FROM lab7_rooms\n",
    "                            LEFT JOIN lab7_reservations\n",
    "                                ON lab7_rooms.RoomCode = lab7_reservations.Room\n",
    "                                AND lab7_reservations.CheckIn >= DATE_SUB(CURDATE(), INTERVAL 180 DAY)\n",
    "                            GROUP BY lab7_rooms.RoomCode\n",
    "                        ), NextAvailable AS (\n",
    "                            SELECT RoomCode,\n",
    "                            CASE WHEN\n",
    "                            -- If a reservation goes past the current date\n",
    "                            EXISTS (\n",
    "                                SELECT *\n",
    "                                FROM lab7_reservations\n",
    "                                WHERE lab7_reservations.Room = lab7_rooms.RoomCode\n",
    "                                    AND lab7_reservations.CheckIn <= CURDATE()\n",
    "                                    AND lab7_reservations.Checkout >= CURDATE()\n",
    "                            ) THEN (\n",
    "                                -- Get the earliest checkout date that occurred after the current date\n",
    "                                SELECT MIN(first_res.Checkout)\n",
    "                                FROM lab7_reservations AS first_res\n",
    "                                WHERE first_res.Room = lab7_rooms.RoomCode\n",
    "                                AND first_res.Checkout > CURDATE()\n",
    "                                -- See if another guest checked in on the date that the prev. reservaton checked out\n",
    "                                AND NOT EXISTS (\n",
    "                                    SELECT *\n",
    "                                    FROM lab7_reservations as second_res\n",
    "                                    WHERE first_res.Room = second_res.Room\n",
    "                                    AND second_res.CheckIn = first_res.Checkout\n",
    "                                )\n",
    "                            )\n",
    "                            ELSE CURDATE()\n",
    "                            END AS NextAvailableCheckIn\n",
    "                            FROM lab7_rooms\n",
    "                        ), RecentReservations AS (\n",
    "                            SELECT RoomCode,\n",
    "                            DATEDIFF(\n",
    "                            (\n",
    "                                SELECT MAX(Checkout)\n",
    "                                FROM lab7_reservations\n",
    "                                WHERE lab7_rooms.RoomCode = lab7_reservations.Room\n",
    "                                    AND lab7_reservations.Checkout <= CURDATE()\n",
    "                            ),\n",
    "                            (\n",
    "                                SELECT MAX(Checkin)\n",
    "                                FROM lab7_reservations\n",
    "                                WHERE lab7_rooms.RoomCode = lab7_reservations.Room\n",
    "                                AND lab7_reservations.Checkout <= CURDATE() \n",
    "                            )\n",
    "                            ) AS MostRecDuration,\n",
    "                            (\n",
    "                            SELECT MAX(Checkout)\n",
    "                            FROM lab7_reservations\n",
    "                            WHERE lab7_rooms.RoomCode = lab7_reservations.Room\n",
    "                                AND lab7_reservations.Checkout <= CURDATE()\n",
    "                            ) AS MostRecentCheckout\n",
    "                            FROM lab7_rooms\n",
    "                        )\n",
    "                        SELECT *\n",
    "                        FROM PopTable\n",
    "                        NATURAL JOIN NextAvailable\n",
    "                        NATURAL JOIN RecentReservations\n",
    "                        ORDER BY PopScore DESC;\n",
    "                        \"\"\")\n",
    "        result = cursor.fetchall()\n",
    "        print(result)"
   ]
  },
  {
   "cell_type": "markdown",
   "metadata": {},
   "source": [
    "### FR2: Reservations ###"
   ]
  },
  {
   "cell_type": "code",
   "execution_count": null,
   "metadata": {},
   "outputs": [],
   "source": [
    "def make_reservation(conn):\n",
    "  first_name = input(\"Enter your first name: \")\n",
    "  last_name = input(\"Enter your last name: \")\n",
    "  room = input(\"Enter desired room code [OPTIONAL: Any]: \")\n",
    "  bed_type = input(\"Enter desired bed type [OPTIONAL: Any]: \")\n",
    "  begin_date = input(\"Enter begin date of reservation: \")\n",
    "  end_date = input(\"Enter end date of reservation: \")\n",
    "  num_adults = input(\"Enter number of adults for reservation: \")\n",
    "  num_children = input(\"Enter number of children for reservation: \")\n",
    "  \n",
    "  "
   ]
  },
  {
   "cell_type": "code",
   "execution_count": null,
   "metadata": {},
   "outputs": [],
   "source": [
    "\n",
    "\n",
    "-- AvailableRooms Table\n",
    "SELECT RoomCode, RoomName, Beds, bedType, maxOcc, basePrice, decor\n",
    "FROM lab7_rooms AS rooms\n",
    "WHERE \n",
    "    rooms.RoomCode = ROOMVAR OR room = 'Any'\n",
    "    AND rooms.bedType = BEDTYPEVAR OR BEDTYPEVAR = 'Any'\n",
    "    AND NOT EXISTS (\n",
    "        SELECT *\n",
    "        FROM lab7_reservations AS reservations\n",
    "        WHERE reservations.Room = rooms.RoomCode\n",
    "          AND reservations.CheckIn < ENDDATE\n",
    "          AND reservations.Checkout > STARTDATE\n",
    "    )\n",
    "AND maxOcc >= ADULTS + KIDS\n",
    "\n",
    "WITH AlternateRooms AS (\n",
    "    SELECT *\n",
    "    FROM lab7_rooms\n",
    "    WHERE RoomCode NOT IN (\n",
    "        SELECT Room\n",
    "        FROM lab7_reservations AS reservations\n",
    "        WHERE reservations.CheckIn < '2025-01-30'\n",
    "            AND reservations.Checkout > '2025-01-23'\n",
    "    )\n",
    "), AverageRoomCosts AS (\n",
    "    SELECT lab7_rooms.RoomCode, ROUND(AVG(DATEDIFF(Checkout, CheckIn) * Rate), 2) AS TotalExpense\n",
    "    FROM lab7_rooms\n",
    "    INNER JOIN lab7_reservations\n",
    "        ON lab7_rooms.RoomCode = lab7_reservations.Room\n",
    "    GROUP BY lab7_rooms.RoomCode   \n",
    ")\n",
    "SELECT *\n",
    "FROM AlternateRooms\n",
    "NATURAL JOIN AverageRoomCosts\n",
    "WHERE maxOcc >= ADULTS + KIDS\n",
    "ORDER BY TotalExpense DESC\n",
    "LIMIT 5"
   ]
  },
  {
   "cell_type": "markdown",
   "metadata": {},
   "source": [
    "### FR3: Reservation Cancellation ###"
   ]
  },
  {
   "cell_type": "code",
   "execution_count": null,
   "metadata": {},
   "outputs": [],
   "source": [
    "def cancel_reservation(conn):\n",
    "  with conn.cursor() as cursor:\n",
    "    print(\"Delete Reservation\")\n",
    "    print(\"----------\")\n",
    "    reservation_code = input(\"Enter Reservation Code: \")\n",
    "    cursor = conn.cursor()\n",
    "    cursor.execute(\"SELECT CODE, Room, CheckIn, Checkout, Rate, LastName, FirstName, Adults, Kids FROM lab7_reservations WHERE CODE = %s\", [reservation_code])\n",
    "    result = cursor.fetchall()\n",
    "    \n",
    "    if result:\n",
    "      print(result)\n",
    "      confirmation = input(\"Are you sure you want to cancel this reservation? [Y]es]\")\n",
    "\n",
    "      if confirmation in (\"Y\", \"Yes\"):\n",
    "          cursor.execute(\"DELETE FROM lab7_reservations WHERE CODE = %s\", [reservation_code])\n",
    "          conn.commit()\n",
    "          print(\"You successfully cancelled the reservation. Thank you for considering us!\")\n",
    "      else:\n",
    "          print(\"The reservation was not cancelled. Thank you for your staying with us!\")\n",
    "    else:\n",
    "        print(\"The reservation code was not found. Please double check your code and try again.\")"
   ]
  },
  {
   "cell_type": "markdown",
   "metadata": {},
   "source": [
    "### FR4: Reservation Information ###"
   ]
  },
  {
   "cell_type": "code",
   "execution_count": null,
   "metadata": {},
   "outputs": [],
   "source": [
    "def reservation_details(conn):\n",
    "  with conn.cursor() as cursor:\n",
    "    print(\"Get Reservation Information\")\n",
    "    print(\"----------\")\n",
    "    cursor = conn.cursor()\n",
    "    cursor.execute(\"SELECT * FROM lab7_reservations\")\n",
    "    result = cursor.fetchall()\n",
    "    print(result)\n",
    "    "
   ]
  },
  {
   "cell_type": "markdown",
   "metadata": {},
   "source": [
    "### FR5: Revenue ###"
   ]
  },
  {
   "cell_type": "code",
   "execution_count": null,
   "metadata": {},
   "outputs": [],
   "source": [
    "def check_revenue(conn):\n",
    "  with conn.cursor() as cursor:\n",
    "    print(\"Check revenue\")\n",
    "    print(\"----------\")\n",
    "    cursor = conn.cursor()\n",
    "    cursor.execute(\"SELECT * FROM lab7_reservations\")\n",
    "    result = cursor.fetchall()\n",
    "    print(result)\n",
    "    \n"
   ]
  },
  {
   "cell_type": "markdown",
   "metadata": {
    "id": "R3Y4cPhBva6l"
   },
   "source": [
    "# **Main Program**"
   ]
  },
  {
   "cell_type": "code",
   "execution_count": null,
   "metadata": {},
   "outputs": [],
   "source": [
    "def main():\n",
    "    try:\n",
    "        db_password = getpass.getpass()\n",
    "        conn = mysql.connector.connect(user='blopez92', password=db_password,\n",
    "                               host='mysql.labthreesixfive.com',\n",
    "                               database='blopez92')\n",
    "        cursor = conn.cursor()\n",
    "        while True:\n",
    "            print(\"Select a Reservation Option:\")\n",
    "            print(\"[1] Rooms and Rates\")\n",
    "            print(\"[2] Reservations\")\n",
    "            print(\"[3] Reservation Cancellation\")\n",
    "            print(\"[4] Detailed Reservation Information\")\n",
    "            print(\"[5] Revenue\")\n",
    "            print(\"[6] Quit\")\n",
    "\n",
    "            choice = input()\n",
    "            if choice == \"1\":\n",
    "                print_rooms_rates(conn)\n",
    "            elif choice == \"2\":\n",
    "                pass\n",
    "            elif choice == \"3\":\n",
    "                cancel_reservation(conn)\n",
    "            elif choice == \"4\":\n",
    "                reservation_details(conn)\n",
    "            elif choice == \"5\":\n",
    "                check_revenue(conn)\n",
    "            elif choice == \"6\":\n",
    "                break\n",
    "    finally:\n",
    "        cursor.close()\n",
    "        conn.close()"
   ]
  },
  {
   "cell_type": "code",
   "execution_count": 5,
   "metadata": {},
   "outputs": [
    {
     "name": "stdout",
     "output_type": "stream",
     "text": [
      "Select a Reservation Option:\n",
      "[1] Rooms and Rates\n",
      "[2] Reservations\n",
      "[3] Reservation Cancellation\n",
      "[4] Detailed Reservation Information\n",
      "[5] Revenue\n",
      "[6] Quit\n",
      "Select a Reservation Option:\n",
      "[1] Rooms and Rates\n",
      "[2] Reservations\n",
      "[3] Reservation Cancellation\n",
      "[4] Detailed Reservation Information\n",
      "[5] Revenue\n",
      "[6] Quit\n",
      "Select a Reservation Option:\n",
      "[1] Rooms and Rates\n",
      "[2] Reservations\n",
      "[3] Reservation Cancellation\n",
      "[4] Detailed Reservation Information\n",
      "[5] Revenue\n",
      "[6] Quit\n",
      "Select a Reservation Option:\n",
      "[1] Rooms and Rates\n",
      "[2] Reservations\n",
      "[3] Reservation Cancellation\n",
      "[4] Detailed Reservation Information\n",
      "[5] Revenue\n",
      "[6] Quit\n",
      "Select a Reservation Option:\n",
      "[1] Rooms and Rates\n",
      "[2] Reservations\n",
      "[3] Reservation Cancellation\n",
      "[4] Detailed Reservation Information\n",
      "[5] Revenue\n",
      "[6] Quit\n"
     ]
    }
   ],
   "source": [
    "if __name__ == \"__main__\":\n",
    "    main()"
   ]
  }
 ],
 "metadata": {
  "colab": {
   "authorship_tag": "ABX9TyOr+weSsgLfLIRTSg9jtwnI",
   "include_colab_link": true,
   "provenance": []
  },
  "kernelspec": {
   "display_name": "Python 3",
   "name": "python3"
  },
  "language_info": {
   "codemirror_mode": {
    "name": "ipython",
    "version": 3
   },
   "file_extension": ".py",
   "mimetype": "text/x-python",
   "name": "python",
   "nbconvert_exporter": "python",
   "pygments_lexer": "ipython3",
   "version": "3.10.11"
  }
 },
 "nbformat": 4,
 "nbformat_minor": 0
}
