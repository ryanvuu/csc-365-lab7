{
 "cells": [
  {
   "cell_type": "markdown",
   "metadata": {
    "colab_type": "text",
    "id": "view-in-github"
   },
   "source": [
    "<a href=\"https://colab.research.google.com/github/ryanvuu/csc-365-lab7/blob/main/csc_365_lab7.ipynb\" target=\"_parent\"><img src=\"https://colab.research.google.com/assets/colab-badge.svg\" alt=\"Open In Colab\"/></a>"
   ]
  },
  {
   "cell_type": "markdown",
   "metadata": {
    "id": "sNMF0OvUvt6h"
   },
   "source": [
    "Install libraries"
   ]
  },
  {
   "cell_type": "code",
   "execution_count": 1,
   "metadata": {
    "id": "1guNv1Oynh_7"
   },
   "outputs": [
    {
     "name": "stdout",
     "output_type": "stream",
     "text": [
      "Requirement already satisfied: mysql-connector-python in c:\\users\\linki\\appdata\\local\\packages\\pythonsoftwarefoundation.python.3.10_qbz5n2kfra8p0\\localcache\\local-packages\\python310\\site-packages (9.1.0)\n",
      "Note: you may need to restart the kernel to use updated packages.\n"
     ]
    },
    {
     "name": "stderr",
     "output_type": "stream",
     "text": [
      "\n",
      "[notice] A new release of pip is available: 23.0.1 -> 24.3.1\n",
      "[notice] To update, run: C:\\Users\\linki\\AppData\\Local\\Microsoft\\WindowsApps\\PythonSoftwareFoundation.Python.3.10_qbz5n2kfra8p0\\python.exe -m pip install --upgrade pip\n"
     ]
    }
   ],
   "source": [
    "%pip install mysql-connector-python\n",
    "import getpass\n",
    "import mysql.connector\n",
    "from datetime import datetime"
   ]
  },
  {
   "cell_type": "markdown",
   "metadata": {},
   "source": [
    "### FR1: Rooms and Rates ###"
   ]
  },
  {
   "cell_type": "code",
   "execution_count": 2,
   "metadata": {},
   "outputs": [],
   "source": [
    "def print_rooms_rates(conn):\n",
    "    with conn.cursor() as cursor:\n",
    "        cursor.execute(\"\"\"\n",
    "                        WITH PopTable AS (\n",
    "                            SELECT lab7_rooms.RoomCode,\n",
    "                                lab7_rooms.RoomName,\n",
    "                                lab7_rooms.Beds,\n",
    "                                lab7_rooms.bedType,\n",
    "                                lab7_rooms.maxOcc,\n",
    "                                lab7_rooms.basePrice,\n",
    "                                lab7_rooms.decor,\n",
    "                                ROUND(SUM(COALESCE(DATEDIFF(lab7_reservations.Checkout, lab7_reservations.CheckIn), 0)) / 180, 2) AS PopScore\n",
    "                            FROM lab7_rooms\n",
    "                            LEFT JOIN lab7_reservations\n",
    "                                ON lab7_rooms.RoomCode = lab7_reservations.Room\n",
    "                                AND lab7_reservations.CheckIn >= DATE_SUB(CURDATE(), INTERVAL 180 DAY)\n",
    "                            GROUP BY lab7_rooms.RoomCode\n",
    "                        ), NextAvailable AS (\n",
    "                            SELECT RoomCode,\n",
    "                            CASE WHEN\n",
    "                            -- If a reservation goes past the current date\n",
    "                            EXISTS (\n",
    "                                SELECT *\n",
    "                                FROM lab7_reservations\n",
    "                                WHERE lab7_reservations.Room = lab7_rooms.RoomCode\n",
    "                                    AND lab7_reservations.CheckIn <= CURDATE()\n",
    "                                    AND lab7_reservations.Checkout >= CURDATE()\n",
    "                            ) THEN (\n",
    "                                -- Get the earliest checkout date that occurred after the current date\n",
    "                                SELECT MIN(first_res.Checkout)\n",
    "                                FROM lab7_reservations AS first_res\n",
    "                                WHERE first_res.Room = lab7_rooms.RoomCode\n",
    "                                AND first_res.Checkout > CURDATE()\n",
    "                                -- See if another guest checked in on the date that the prev. reservaton checked out\n",
    "                                AND NOT EXISTS (\n",
    "                                    SELECT *\n",
    "                                    FROM lab7_reservations as second_res\n",
    "                                    WHERE first_res.Room = second_res.Room\n",
    "                                    AND second_res.CheckIn = first_res.Checkout\n",
    "                                )\n",
    "                            )\n",
    "                            ELSE CURDATE()\n",
    "                            END AS NextAvailableCheckIn\n",
    "                            FROM lab7_rooms\n",
    "                        ), RecentReservations AS (\n",
    "                            SELECT RoomCode,\n",
    "                            DATEDIFF(\n",
    "                            (\n",
    "                                SELECT MAX(Checkout)\n",
    "                                FROM lab7_reservations\n",
    "                                WHERE lab7_rooms.RoomCode = lab7_reservations.Room\n",
    "                                    AND lab7_reservations.Checkout <= CURDATE()\n",
    "                            ),\n",
    "                            (\n",
    "                                SELECT MAX(Checkin)\n",
    "                                FROM lab7_reservations\n",
    "                                WHERE lab7_rooms.RoomCode = lab7_reservations.Room\n",
    "                                AND lab7_reservations.Checkout <= CURDATE() \n",
    "                            )\n",
    "                            ) AS MostRecDuration,\n",
    "                            (\n",
    "                            SELECT MAX(Checkout)\n",
    "                            FROM lab7_reservations\n",
    "                            WHERE lab7_rooms.RoomCode = lab7_reservations.Room\n",
    "                                AND lab7_reservations.Checkout <= CURDATE()\n",
    "                            ) AS MostRecentCheckout\n",
    "                            FROM lab7_rooms\n",
    "                        )\n",
    "                        SELECT *\n",
    "                        FROM PopTable\n",
    "                        NATURAL JOIN NextAvailable\n",
    "                        NATURAL JOIN RecentReservations\n",
    "                        ORDER BY PopScore DESC;\n",
    "                        \"\"\")\n",
    "        result = cursor.fetchall()\n",
    "        print(result)"
   ]
  },
  {
   "cell_type": "markdown",
   "metadata": {},
   "source": [
    "### FR2: Reservations ###"
   ]
  },
  {
   "cell_type": "code",
   "execution_count": 3,
   "metadata": {},
   "outputs": [],
   "source": [
    "def make_reservation(conn):\n",
    "  first_name = input(\"Enter your first name: \")\n",
    "  last_name = input(\"Enter your last name: \")\n",
    "  room = input(\"Enter desired room code [OPTIONAL: Any]: \")\n",
    "  bed_type = input(\"Enter desired bed type [OPTIONAL: Any]: \")\n",
    "  begin_date = input(\"Enter begin date of reservation: \")\n",
    "  end_date = input(\"Enter end date of reservation: \")\n",
    "  num_adults = input(\"Enter number of adults for reservation: \")\n",
    "  num_children = input(\"Enter number of children for reservation: \")\n",
    "  \n",
    "  "
   ]
  },
  {
   "cell_type": "code",
   "execution_count": 4,
   "metadata": {},
   "outputs": [
    {
     "ename": "SyntaxError",
     "evalue": "invalid syntax (953027301.py, line 1)",
     "output_type": "error",
     "traceback": [
      "\u001b[1;36m  Cell \u001b[1;32mIn[4], line 1\u001b[1;36m\u001b[0m\n\u001b[1;33m    -- AvailableRooms Table\u001b[0m\n\u001b[1;37m                      ^\u001b[0m\n\u001b[1;31mSyntaxError\u001b[0m\u001b[1;31m:\u001b[0m invalid syntax\n"
     ]
    }
   ],
   "source": [
    "\n",
    "\n",
    "-- AvailableRooms Table\n",
    "SELECT RoomCode, RoomName, Beds, bedType, maxOcc, basePrice, decor\n",
    "FROM lab7_rooms AS rooms\n",
    "WHERE \n",
    "    rooms.RoomCode = ROOMVAR OR room = 'Any'\n",
    "    AND rooms.bedType = BEDTYPEVAR OR BEDTYPEVAR = 'Any'\n",
    "    AND NOT EXISTS (\n",
    "        SELECT *\n",
    "        FROM lab7_reservations AS reservations\n",
    "        WHERE reservations.Room = rooms.RoomCode\n",
    "          AND reservations.CheckIn < ENDDATE\n",
    "          AND reservations.Checkout > STARTDATE\n",
    "    )\n",
    "AND maxOcc >= ADULTS + KIDS\n",
    "\n",
    "WITH AlternateRooms AS (\n",
    "    SELECT *\n",
    "    FROM lab7_rooms\n",
    "    WHERE RoomCode NOT IN (\n",
    "        SELECT Room\n",
    "        FROM lab7_reservations AS reservations\n",
    "        WHERE reservations.CheckIn < '2025-01-30'\n",
    "            AND reservations.Checkout > '2025-01-23'\n",
    "    )\n",
    "), AverageRoomCosts AS (\n",
    "    SELECT lab7_rooms.RoomCode, ROUND(AVG(DATEDIFF(Checkout, CheckIn) * Rate), 2) AS TotalExpense\n",
    "    FROM lab7_rooms\n",
    "    INNER JOIN lab7_reservations\n",
    "        ON lab7_rooms.RoomCode = lab7_reservations.Room\n",
    "    GROUP BY lab7_rooms.RoomCode   \n",
    ")\n",
    "SELECT *\n",
    "FROM AlternateRooms\n",
    "NATURAL JOIN AverageRoomCosts\n",
    "WHERE maxOcc >= ADULTS + KIDS\n",
    "ORDER BY TotalExpense DESC\n",
    "LIMIT 5"
   ]
  },
  {
   "cell_type": "markdown",
   "metadata": {},
   "source": [
    "### FR3: Reservation Cancellation ###"
   ]
  },
  {
   "cell_type": "code",
   "execution_count": null,
   "metadata": {},
   "outputs": [],
   "source": [
    "def cancel_reservation(conn):\n",
    "  with conn.cursor() as cursor:\n",
    "    print(\"Delete Reservation\")\n",
    "    print(\"----------\")\n",
    "    reservation_code = input(\"Enter Reservation Code: \")\n",
    "    cursor = conn.cursor()\n",
    "    cursor.execute(\"SELECT CODE, Room, CheckIn, Checkout, Rate, LastName, FirstName, Adults, Kids FROM lab7_reservations WHERE CODE = %s\", [reservation_code])\n",
    "    result = cursor.fetchall()\n",
    "    \n",
    "    if result:\n",
    "      print(result)\n",
    "      confirmation = input(\"Are you sure you want to cancel this reservation? [Y]es]\")\n",
    "\n",
    "      if confirmation in (\"Y\", \"Yes\"):\n",
    "          cursor.execute(\"DELETE FROM lab7_reservations WHERE CODE = %s\", [reservation_code])\n",
    "          conn.commit()\n",
    "          print(\"You successfully cancelled the reservation. Thank you for considering us!\")\n",
    "      else:\n",
    "          print(\"The reservation was not cancelled. Thank you for your staying with us!\")\n",
    "    else:\n",
    "        print(\"The reservation code was not found. Please double check your code and try again.\")"
   ]
  },
  {
   "cell_type": "markdown",
   "metadata": {},
   "source": [
    "### FR4: Reservation Information ###"
   ]
  },
  {
   "cell_type": "code",
   "execution_count": null,
   "metadata": {},
   "outputs": [],
   "source": [
    "def reservation_details(conn):\n",
    "  with conn.cursor() as cursor:\n",
    "    print(\"\\nDetailed Reservation Information Filters\")\n",
    "    print(\"----------\")\n",
    "    query = \"\"\"SELECT Code, Room, RoomName, Beds, BedType, CheckIn, CheckOut, Rate, LastName, FirstName, Adults, Kids \n",
    "    FROM lab7_reservations JOIN lab7_rooms ON lab7_rooms.RoomCode = lab7_reservations.Room\"\"\"\n",
    "    filters = []\n",
    "    inputs = []\n",
    "\n",
    "    first_name = input(\"[OPTIONAL] Enter the first name: \")\n",
    "    if first_name:\n",
    "      print(\"First name filter by: \", first_name)\n",
    "      filters.append('FirstName LIKE %s')\n",
    "      inputs.append(f\"{first_name}\")\n",
    "    \n",
    "    last_name = input(\"[OPTIONAL] Enter the last name: \")\n",
    "    if last_name:\n",
    "      print(\"Last name filter by: \", last_name)\n",
    "      filters.append('LastName LIKE %s')\n",
    "      inputs.append(f\"{last_name}\")\n",
    "\n",
    "    begin_date = input(\"[OPTIONAL] Enter lower bound of reservation date: \")\n",
    "    if begin_date:\n",
    "      print(\"Lower bound of reservations: \", begin_date)\n",
    "      filters.append('Checkin >= %s')\n",
    "      inputs.append(f\"{begin_date}\")\n",
    "\n",
    "    end_date = input(\"[OPTIONAL] Enter upper bound of reservation date: \")\n",
    "    if end_date:\n",
    "      print(\"Upper bound of reservations: \", end_date)\n",
    "      filters.append('Checkout <= %s' % end_date)\n",
    "      inputs.append(f\"{end_date}\")\n",
    "\n",
    "    room = input(\"[OPTIONAL] Enter room code: \")    \n",
    "    if room:\n",
    "      print(\"Room code filter by: \", room)\n",
    "      filters.append('Room LIKE %s')\n",
    "      inputs.append(f\"{room}\")\n",
    "\n",
    "    reserve = input(\"[OPTIONAL] Enter reservation code: \")    \n",
    "    if reserve:\n",
    "      print(\"Reservation code filter by: \", reserve)\n",
    "      filters.append('Code LIKE %s')\n",
    "      inputs.append(f\"{reserve}\")\n",
    "\n",
    "\n",
    "    if filters:\n",
    "      query += \" WHERE \" + \" and \".join(filters)\n",
    "\n",
    "    cursor.execute(query, inputs)\n",
    "    result = cursor.fetchall()\n",
    "\n",
    "    print(\"Matching Reservations\")\n",
    "    print(\"----------\")\n",
    "    for row in result:\n",
    "      print(\"\"\"Reservation Code: %s, Room Code: %s, Room Name: %s\n",
    "            Beds: %s, BedType: %s, Check-In: %s, Check-Out: %s\n",
    "            Rate %s, Last Name: %s, First Name: %s, Adults: %s, Kids: %s \\n\"\"\" \n",
    "            % (row[0], row[1], row[2], \n",
    "            row[3], row[4], row[5].strftime('%Y-%m-%d'), row[6].strftime('%Y-%m-%d'),\n",
    "            row[7], row[8], row[9], row[10], row[11]))"
   ]
  },
  {
   "cell_type": "markdown",
   "metadata": {},
   "source": [
    "### FR5: Revenue ###"
   ]
  },
  {
   "cell_type": "code",
   "execution_count": null,
   "metadata": {},
   "outputs": [],
   "source": [
    "def check_revenue(conn):\n",
    "  with conn.cursor() as cursor:\n",
    "    print(\"Check revenue\")\n",
    "    print(\"----------\")\n",
    "    cursor = conn.cursor()\n",
    "    cursor.execute(\"SELECT * FROM lab7_reservations\")\n",
    "    result = cursor.fetchall()\n",
    "    print(result)\n",
    "    \n"
   ]
  },
  {
   "cell_type": "markdown",
   "metadata": {
    "id": "R3Y4cPhBva6l"
   },
   "source": [
    "# **Main Program**"
   ]
  },
  {
   "cell_type": "code",
   "execution_count": 3,
   "metadata": {},
   "outputs": [],
   "source": [
    "def main():\n",
    "    try:\n",
    "        db_password = getpass.getpass()\n",
    "        conn = mysql.connector.connect(user='blopez92', password=db_password,\n",
    "                               host='mysql.labthreesixfive.com',\n",
    "                               database='blopez92')\n",
    "        cursor = conn.cursor()\n",
    "        while True:\n",
    "            print(\"Select a Reservation Option:\")\n",
    "            print(\"[1] Rooms and Rates\")\n",
    "            print(\"[2] Reservations\")\n",
    "            print(\"[3] Reservation Cancellation\")\n",
    "            print(\"[4] Detailed Reservation Information\")\n",
    "            print(\"[5] Revenue\")\n",
    "            print(\"[6] Quit\")\n",
    "\n",
    "            choice = input()\n",
    "            if choice == \"1\":\n",
    "                print_rooms_rates(conn)\n",
    "            elif choice == \"2\":\n",
    "                pass\n",
    "            elif choice == \"3\":\n",
    "                cancel_reservation(conn)\n",
    "            elif choice == \"4\":\n",
    "                reservation_details(conn)\n",
    "            elif choice == \"5\":\n",
    "                check_revenue(conn)\n",
    "            elif choice == \"6\":\n",
    "                break\n",
    "    finally:\n",
    "        cursor.close()\n",
    "        conn.close()"
   ]
  },
  {
   "cell_type": "code",
   "execution_count": 5,
   "metadata": {},
   "outputs": [
    {
     "name": "stdout",
     "output_type": "stream",
     "text": [
      "Select a Reservation Option:\n",
      "[1] Rooms and Rates\n",
      "[2] Reservations\n",
      "[3] Reservation Cancellation\n",
      "[4] Detailed Reservation Information\n",
      "[5] Revenue\n",
      "[6] Quit\n",
      "Detailed Reservation Information Filters\n",
      "----------\n",
      "Last name filter by:  L%\n",
      "Matching Reservations\n",
      "----------\n",
      "[(15059, 'CAS', 'Convoke and sanguine', 2, 'King', datetime.date(2024, 2, 29), datetime.date(2024, 3, 7), Decimal('157.50'), 'LERCH', 'NICKY', 3, 1), (18311, 'MWC', 'Mendicant with cryptic', 2, 'Double', datetime.date(2024, 1, 27), datetime.date(2024, 1, 31), Decimal('125.00'), 'LUEDKE', 'BRYNN', 1, 1), (18900, 'IBS', 'Interim but salutary', 1, 'King', datetime.date(2023, 10, 3), datetime.date(2023, 10, 5), Decimal('172.50'), 'LAURY', 'EMILY', 2, 0), (32896, 'RTE', 'Riddle to exculpate', 2, 'Queen', datetime.date(2023, 7, 6), datetime.date(2023, 7, 13), Decimal('157.50'), 'LUTFY', 'LIZETTE', 1, 2), (40043, 'MWC', 'Mendicant with cryptic', 2, 'Double', datetime.date(2024, 6, 4), datetime.date(2024, 6, 14), Decimal('125.00'), 'LANSBERRY', 'JESUSITA', 3, 1), (41783, 'RND', 'Recluse and defiance', 1, 'King', datetime.date(2024, 6, 19), datetime.date(2024, 6, 20), Decimal('187.50'), 'LEDOUX', 'LENA', 1, 0), (43651, 'IBD', 'Immutable before decorum', 2, 'Queen', datetime.date(2024, 4, 19), datetime.date(2024, 4, 21), Decimal('150.00'), 'LAGERMAN', 'LEOLA', 2, 0), (50459, 'RTE', 'Riddle to exculpate', 2, 'Queen', datetime.date(2023, 10, 14), datetime.date(2023, 10, 15), Decimal('218.75'), 'LORENZANO', 'SON', 1, 2), (54323, 'MWC', 'Mendicant with cryptic', 2, 'Double', datetime.date(2024, 1, 13), datetime.date(2024, 1, 14), Decimal('106.25'), 'LUNNEY', 'YVETTE', 3, 0), (62024, 'RTE', 'Riddle to exculpate', 2, 'Queen', datetime.date(2023, 8, 6), datetime.date(2023, 8, 12), Decimal('157.50'), 'LUTTRELL', 'MONTY', 1, 3), (63458, 'RND', 'Recluse and defiance', 1, 'King', datetime.date(2024, 1, 31), datetime.date(2024, 2, 1), Decimal('172.50'), 'LELEUX', 'PORTER', 1, 1), (69796, 'FNA', 'Frugal not apropos', 2, 'King', datetime.date(2023, 12, 9), datetime.date(2023, 12, 11), Decimal('250.00'), 'LUANGSINGOTHA', 'WILHELMINA', 1, 3), (82884, 'CAS', 'Convoke and sanguine', 2, 'King', datetime.date(2023, 11, 7), datetime.date(2023, 11, 8), Decimal('157.50'), 'LEVAR', 'NYLA', 2, 1), (84120, 'MWC', 'Mendicant with cryptic', 2, 'Double', datetime.date(2023, 12, 29), datetime.date(2024, 1, 5), Decimal('143.75'), 'LOTTO', 'MYRA', 3, 1), (87943, 'MWC', 'Mendicant with cryptic', 2, 'Double', datetime.date(2023, 11, 21), datetime.date(2023, 11, 28), Decimal('125.00'), 'LUTFY', 'LIZETTE', 2, 0), (90569, 'CAS', 'Convoke and sanguine', 2, 'King', datetime.date(2023, 9, 6), datetime.date(2023, 9, 7), Decimal('201.25'), 'LIBBERTON', 'SAM', 1, 0), (91415, 'MWC', 'Mendicant with cryptic', 2, 'Double', datetime.date(2023, 11, 16), datetime.date(2023, 11, 18), Decimal('112.50'), 'LEHRFELD', 'CHERLY', 3, 0), (92515, 'CAS', 'Convoke and sanguine', 2, 'King', datetime.date(2024, 1, 18), datetime.date(2024, 1, 25), Decimal('201.25'), 'LIESTMAN', 'TOVA', 2, 0), (93165, 'HBB', 'Harbinger but bequest', 1, 'Queen', datetime.date(2024, 6, 10), datetime.date(2024, 6, 14), Decimal('90.00'), 'LEDOUX', 'LENA', 1, 0), (95100, 'IBS', 'Interim but salutary', 1, 'King', datetime.date(2024, 4, 27), datetime.date(2024, 5, 5), Decimal('172.50'), 'LABAT', 'JEANMARIE', 1, 0), (97996, 'IBD', 'Immutable before decorum', 2, 'Queen', datetime.date(2023, 11, 6), datetime.date(2023, 11, 7), Decimal('135.00'), 'LUCIDO', 'AHMAD', 1, 1), (99268, 'IBS', 'Interim but salutary', 1, 'King', datetime.date(2023, 10, 30), datetime.date(2023, 11, 3), Decimal('135.00'), 'LEEHY', 'NENA', 1, 0)]\n",
      "Reservation Code: 15059, Room Code: CAS, Room Name: Convoke and sanguine\n",
      "            Beds: 2, BedType: King, Check-In: 2024-02-29, Check-Out: 2024-03-07\n",
      "            Rate 157.50, Last Name: LERCH, First Name: NICKY, Adults: 3, Kids: 1 \n",
      "\n",
      "Reservation Code: 18311, Room Code: MWC, Room Name: Mendicant with cryptic\n",
      "            Beds: 2, BedType: Double, Check-In: 2024-01-27, Check-Out: 2024-01-31\n",
      "            Rate 125.00, Last Name: LUEDKE, First Name: BRYNN, Adults: 1, Kids: 1 \n",
      "\n",
      "Reservation Code: 18900, Room Code: IBS, Room Name: Interim but salutary\n",
      "            Beds: 1, BedType: King, Check-In: 2023-10-03, Check-Out: 2023-10-05\n",
      "            Rate 172.50, Last Name: LAURY, First Name: EMILY, Adults: 2, Kids: 0 \n",
      "\n",
      "Reservation Code: 32896, Room Code: RTE, Room Name: Riddle to exculpate\n",
      "            Beds: 2, BedType: Queen, Check-In: 2023-07-06, Check-Out: 2023-07-13\n",
      "            Rate 157.50, Last Name: LUTFY, First Name: LIZETTE, Adults: 1, Kids: 2 \n",
      "\n",
      "Reservation Code: 40043, Room Code: MWC, Room Name: Mendicant with cryptic\n",
      "            Beds: 2, BedType: Double, Check-In: 2024-06-04, Check-Out: 2024-06-14\n",
      "            Rate 125.00, Last Name: LANSBERRY, First Name: JESUSITA, Adults: 3, Kids: 1 \n",
      "\n",
      "Reservation Code: 41783, Room Code: RND, Room Name: Recluse and defiance\n",
      "            Beds: 1, BedType: King, Check-In: 2024-06-19, Check-Out: 2024-06-20\n",
      "            Rate 187.50, Last Name: LEDOUX, First Name: LENA, Adults: 1, Kids: 0 \n",
      "\n",
      "Reservation Code: 43651, Room Code: IBD, Room Name: Immutable before decorum\n",
      "            Beds: 2, BedType: Queen, Check-In: 2024-04-19, Check-Out: 2024-04-21\n",
      "            Rate 150.00, Last Name: LAGERMAN, First Name: LEOLA, Adults: 2, Kids: 0 \n",
      "\n",
      "Reservation Code: 50459, Room Code: RTE, Room Name: Riddle to exculpate\n",
      "            Beds: 2, BedType: Queen, Check-In: 2023-10-14, Check-Out: 2023-10-15\n",
      "            Rate 218.75, Last Name: LORENZANO, First Name: SON, Adults: 1, Kids: 2 \n",
      "\n",
      "Reservation Code: 54323, Room Code: MWC, Room Name: Mendicant with cryptic\n",
      "            Beds: 2, BedType: Double, Check-In: 2024-01-13, Check-Out: 2024-01-14\n",
      "            Rate 106.25, Last Name: LUNNEY, First Name: YVETTE, Adults: 3, Kids: 0 \n",
      "\n",
      "Reservation Code: 62024, Room Code: RTE, Room Name: Riddle to exculpate\n",
      "            Beds: 2, BedType: Queen, Check-In: 2023-08-06, Check-Out: 2023-08-12\n",
      "            Rate 157.50, Last Name: LUTTRELL, First Name: MONTY, Adults: 1, Kids: 3 \n",
      "\n",
      "Reservation Code: 63458, Room Code: RND, Room Name: Recluse and defiance\n",
      "            Beds: 1, BedType: King, Check-In: 2024-01-31, Check-Out: 2024-02-01\n",
      "            Rate 172.50, Last Name: LELEUX, First Name: PORTER, Adults: 1, Kids: 1 \n",
      "\n",
      "Reservation Code: 69796, Room Code: FNA, Room Name: Frugal not apropos\n",
      "            Beds: 2, BedType: King, Check-In: 2023-12-09, Check-Out: 2023-12-11\n",
      "            Rate 250.00, Last Name: LUANGSINGOTHA, First Name: WILHELMINA, Adults: 1, Kids: 3 \n",
      "\n",
      "Reservation Code: 82884, Room Code: CAS, Room Name: Convoke and sanguine\n",
      "            Beds: 2, BedType: King, Check-In: 2023-11-07, Check-Out: 2023-11-08\n",
      "            Rate 157.50, Last Name: LEVAR, First Name: NYLA, Adults: 2, Kids: 1 \n",
      "\n",
      "Reservation Code: 84120, Room Code: MWC, Room Name: Mendicant with cryptic\n",
      "            Beds: 2, BedType: Double, Check-In: 2023-12-29, Check-Out: 2024-01-05\n",
      "            Rate 143.75, Last Name: LOTTO, First Name: MYRA, Adults: 3, Kids: 1 \n",
      "\n",
      "Reservation Code: 87943, Room Code: MWC, Room Name: Mendicant with cryptic\n",
      "            Beds: 2, BedType: Double, Check-In: 2023-11-21, Check-Out: 2023-11-28\n",
      "            Rate 125.00, Last Name: LUTFY, First Name: LIZETTE, Adults: 2, Kids: 0 \n",
      "\n",
      "Reservation Code: 90569, Room Code: CAS, Room Name: Convoke and sanguine\n",
      "            Beds: 2, BedType: King, Check-In: 2023-09-06, Check-Out: 2023-09-07\n",
      "            Rate 201.25, Last Name: LIBBERTON, First Name: SAM, Adults: 1, Kids: 0 \n",
      "\n",
      "Reservation Code: 91415, Room Code: MWC, Room Name: Mendicant with cryptic\n",
      "            Beds: 2, BedType: Double, Check-In: 2023-11-16, Check-Out: 2023-11-18\n",
      "            Rate 112.50, Last Name: LEHRFELD, First Name: CHERLY, Adults: 3, Kids: 0 \n",
      "\n",
      "Reservation Code: 92515, Room Code: CAS, Room Name: Convoke and sanguine\n",
      "            Beds: 2, BedType: King, Check-In: 2024-01-18, Check-Out: 2024-01-25\n",
      "            Rate 201.25, Last Name: LIESTMAN, First Name: TOVA, Adults: 2, Kids: 0 \n",
      "\n",
      "Reservation Code: 93165, Room Code: HBB, Room Name: Harbinger but bequest\n",
      "            Beds: 1, BedType: Queen, Check-In: 2024-06-10, Check-Out: 2024-06-14\n",
      "            Rate 90.00, Last Name: LEDOUX, First Name: LENA, Adults: 1, Kids: 0 \n",
      "\n",
      "Reservation Code: 95100, Room Code: IBS, Room Name: Interim but salutary\n",
      "            Beds: 1, BedType: King, Check-In: 2024-04-27, Check-Out: 2024-05-05\n",
      "            Rate 172.50, Last Name: LABAT, First Name: JEANMARIE, Adults: 1, Kids: 0 \n",
      "\n",
      "Reservation Code: 97996, Room Code: IBD, Room Name: Immutable before decorum\n",
      "            Beds: 2, BedType: Queen, Check-In: 2023-11-06, Check-Out: 2023-11-07\n",
      "            Rate 135.00, Last Name: LUCIDO, First Name: AHMAD, Adults: 1, Kids: 1 \n",
      "\n",
      "Reservation Code: 99268, Room Code: IBS, Room Name: Interim but salutary\n",
      "            Beds: 1, BedType: King, Check-In: 2023-10-30, Check-Out: 2023-11-03\n",
      "            Rate 135.00, Last Name: LEEHY, First Name: NENA, Adults: 1, Kids: 0 \n",
      "\n",
      "Select a Reservation Option:\n",
      "[1] Rooms and Rates\n",
      "[2] Reservations\n",
      "[3] Reservation Cancellation\n",
      "[4] Detailed Reservation Information\n",
      "[5] Revenue\n",
      "[6] Quit\n"
     ]
    },
    {
     "ename": "KeyboardInterrupt",
     "evalue": "Interrupted by user",
     "output_type": "error",
     "traceback": [
      "\u001b[1;31m---------------------------------------------------------------------------\u001b[0m",
      "\u001b[1;31mKeyboardInterrupt\u001b[0m                         Traceback (most recent call last)",
      "Cell \u001b[1;32mIn[5], line 2\u001b[0m\n\u001b[0;32m      1\u001b[0m \u001b[38;5;28;01mif\u001b[39;00m \u001b[38;5;18m__name__\u001b[39m \u001b[38;5;241m==\u001b[39m \u001b[38;5;124m\"\u001b[39m\u001b[38;5;124m__main__\u001b[39m\u001b[38;5;124m\"\u001b[39m:\n\u001b[1;32m----> 2\u001b[0m     \u001b[43mmain\u001b[49m\u001b[43m(\u001b[49m\u001b[43m)\u001b[49m\n",
      "Cell \u001b[1;32mIn[3], line 17\u001b[0m, in \u001b[0;36mmain\u001b[1;34m()\u001b[0m\n\u001b[0;32m     14\u001b[0m \u001b[38;5;28mprint\u001b[39m(\u001b[38;5;124m\"\u001b[39m\u001b[38;5;124m[5] Revenue\u001b[39m\u001b[38;5;124m\"\u001b[39m)\n\u001b[0;32m     15\u001b[0m \u001b[38;5;28mprint\u001b[39m(\u001b[38;5;124m\"\u001b[39m\u001b[38;5;124m[6] Quit\u001b[39m\u001b[38;5;124m\"\u001b[39m)\n\u001b[1;32m---> 17\u001b[0m choice \u001b[38;5;241m=\u001b[39m \u001b[38;5;28;43minput\u001b[39;49m\u001b[43m(\u001b[49m\u001b[43m)\u001b[49m\n\u001b[0;32m     18\u001b[0m \u001b[38;5;28;01mif\u001b[39;00m choice \u001b[38;5;241m==\u001b[39m \u001b[38;5;124m\"\u001b[39m\u001b[38;5;124m1\u001b[39m\u001b[38;5;124m\"\u001b[39m:\n\u001b[0;32m     19\u001b[0m     print_rooms_rates(conn)\n",
      "File \u001b[1;32m~\\AppData\\Local\\Packages\\PythonSoftwareFoundation.Python.3.10_qbz5n2kfra8p0\\LocalCache\\local-packages\\Python310\\site-packages\\ipykernel\\kernelbase.py:1282\u001b[0m, in \u001b[0;36mKernel.raw_input\u001b[1;34m(self, prompt)\u001b[0m\n\u001b[0;32m   1280\u001b[0m     msg \u001b[38;5;241m=\u001b[39m \u001b[38;5;124m\"\u001b[39m\u001b[38;5;124mraw_input was called, but this frontend does not support input requests.\u001b[39m\u001b[38;5;124m\"\u001b[39m\n\u001b[0;32m   1281\u001b[0m     \u001b[38;5;28;01mraise\u001b[39;00m StdinNotImplementedError(msg)\n\u001b[1;32m-> 1282\u001b[0m \u001b[38;5;28;01mreturn\u001b[39;00m \u001b[38;5;28;43mself\u001b[39;49m\u001b[38;5;241;43m.\u001b[39;49m\u001b[43m_input_request\u001b[49m\u001b[43m(\u001b[49m\n\u001b[0;32m   1283\u001b[0m \u001b[43m    \u001b[49m\u001b[38;5;28;43mstr\u001b[39;49m\u001b[43m(\u001b[49m\u001b[43mprompt\u001b[49m\u001b[43m)\u001b[49m\u001b[43m,\u001b[49m\n\u001b[0;32m   1284\u001b[0m \u001b[43m    \u001b[49m\u001b[38;5;28;43mself\u001b[39;49m\u001b[38;5;241;43m.\u001b[39;49m\u001b[43m_parent_ident\u001b[49m\u001b[43m[\u001b[49m\u001b[38;5;124;43m\"\u001b[39;49m\u001b[38;5;124;43mshell\u001b[39;49m\u001b[38;5;124;43m\"\u001b[39;49m\u001b[43m]\u001b[49m\u001b[43m,\u001b[49m\n\u001b[0;32m   1285\u001b[0m \u001b[43m    \u001b[49m\u001b[38;5;28;43mself\u001b[39;49m\u001b[38;5;241;43m.\u001b[39;49m\u001b[43mget_parent\u001b[49m\u001b[43m(\u001b[49m\u001b[38;5;124;43m\"\u001b[39;49m\u001b[38;5;124;43mshell\u001b[39;49m\u001b[38;5;124;43m\"\u001b[39;49m\u001b[43m)\u001b[49m\u001b[43m,\u001b[49m\n\u001b[0;32m   1286\u001b[0m \u001b[43m    \u001b[49m\u001b[43mpassword\u001b[49m\u001b[38;5;241;43m=\u001b[39;49m\u001b[38;5;28;43;01mFalse\u001b[39;49;00m\u001b[43m,\u001b[49m\n\u001b[0;32m   1287\u001b[0m \u001b[43m\u001b[49m\u001b[43m)\u001b[49m\n",
      "File \u001b[1;32m~\\AppData\\Local\\Packages\\PythonSoftwareFoundation.Python.3.10_qbz5n2kfra8p0\\LocalCache\\local-packages\\Python310\\site-packages\\ipykernel\\kernelbase.py:1325\u001b[0m, in \u001b[0;36mKernel._input_request\u001b[1;34m(self, prompt, ident, parent, password)\u001b[0m\n\u001b[0;32m   1322\u001b[0m \u001b[38;5;28;01mexcept\u001b[39;00m \u001b[38;5;167;01mKeyboardInterrupt\u001b[39;00m:\n\u001b[0;32m   1323\u001b[0m     \u001b[38;5;66;03m# re-raise KeyboardInterrupt, to truncate traceback\u001b[39;00m\n\u001b[0;32m   1324\u001b[0m     msg \u001b[38;5;241m=\u001b[39m \u001b[38;5;124m\"\u001b[39m\u001b[38;5;124mInterrupted by user\u001b[39m\u001b[38;5;124m\"\u001b[39m\n\u001b[1;32m-> 1325\u001b[0m     \u001b[38;5;28;01mraise\u001b[39;00m \u001b[38;5;167;01mKeyboardInterrupt\u001b[39;00m(msg) \u001b[38;5;28;01mfrom\u001b[39;00m \u001b[38;5;28;01mNone\u001b[39;00m\n\u001b[0;32m   1326\u001b[0m \u001b[38;5;28;01mexcept\u001b[39;00m \u001b[38;5;167;01mException\u001b[39;00m:\n\u001b[0;32m   1327\u001b[0m     \u001b[38;5;28mself\u001b[39m\u001b[38;5;241m.\u001b[39mlog\u001b[38;5;241m.\u001b[39mwarning(\u001b[38;5;124m\"\u001b[39m\u001b[38;5;124mInvalid Message:\u001b[39m\u001b[38;5;124m\"\u001b[39m, exc_info\u001b[38;5;241m=\u001b[39m\u001b[38;5;28;01mTrue\u001b[39;00m)\n",
      "\u001b[1;31mKeyboardInterrupt\u001b[0m: Interrupted by user"
     ]
    }
   ],
   "source": [
    "if __name__ == \"__main__\":\n",
    "    main()"
   ]
  }
 ],
 "metadata": {
  "colab": {
   "authorship_tag": "ABX9TyOr+weSsgLfLIRTSg9jtwnI",
   "include_colab_link": true,
   "provenance": []
  },
  "kernelspec": {
   "display_name": "Python 3",
   "name": "python3"
  },
  "language_info": {
   "codemirror_mode": {
    "name": "ipython",
    "version": 3
   },
   "file_extension": ".py",
   "mimetype": "text/x-python",
   "name": "python",
   "nbconvert_exporter": "python",
   "pygments_lexer": "ipython3",
   "version": "3.10.11"
  }
 },
 "nbformat": 4,
 "nbformat_minor": 0
}
