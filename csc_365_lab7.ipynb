{
 "cells": [
  {
   "cell_type": "markdown",
   "metadata": {
    "colab_type": "text",
    "id": "view-in-github"
   },
   "source": [
    "<a href=\"https://colab.research.google.com/github/ryanvuu/csc-365-lab7/blob/main/csc_365_lab7.ipynb\" target=\"_parent\"><img src=\"https://colab.research.google.com/assets/colab-badge.svg\" alt=\"Open In Colab\"/></a>"
   ]
  },
  {
   "cell_type": "code",
   "execution_count": null,
   "metadata": {},
   "outputs": [],
   "source": [
    "%pip install python-dotenv"
   ]
  },
  {
   "cell_type": "code",
   "execution_count": null,
   "metadata": {},
   "outputs": [],
   "source": [
    "from dotenv import load_dotenv\n",
    "import os\n",
    "\n",
    "load_dotenv()\n",
    "username = os.getenv(\"username\")"
   ]
  },
  {
   "cell_type": "markdown",
   "metadata": {
    "id": "sNMF0OvUvt6h"
   },
   "source": [
    "Install libraries"
   ]
  },
  {
   "cell_type": "code",
   "execution_count": null,
   "metadata": {
    "id": "1guNv1Oynh_7"
   },
   "outputs": [],
   "source": [
    "pip install mysql-connector-python"
   ]
  },
  {
   "cell_type": "code",
   "execution_count": null,
   "metadata": {
    "id": "9Lj8GkEpnjO-"
   },
   "outputs": [],
   "source": [
    "import getpass\n",
    "db_password = getpass.getpass()\n",
    "# print(db_password)"
   ]
  },
  {
   "cell_type": "code",
   "execution_count": null,
   "metadata": {
    "id": "dZZXvwcWnl4Q"
   },
   "outputs": [],
   "source": [
    "import mysql.connector\n",
    "conn = mysql.connector.connect(user=username, password=db_password,\n",
    "                               host='mysql.labthreesixfive.com',\n",
    "                               database='rvu03')"
   ]
  },
  {
   "cell_type": "code",
   "execution_count": null,
   "metadata": {
    "id": "LMRpGAF5nnQZ"
   },
   "outputs": [],
   "source": [
    "cursor = conn.cursor()\n",
    "cursor.execute(\"SELECT * FROM lab7_rooms\")\n",
    "result = cursor.fetchall()\n",
    "print(result)"
   ]
  },
  {
   "cell_type": "markdown",
   "metadata": {},
   "source": [
    "### FR1: Rooms and Rates ###"
   ]
  },
  {
   "cell_type": "code",
   "execution_count": null,
   "metadata": {},
   "outputs": [],
   "source": [
    "pass"
   ]
  },
  {
   "cell_type": "markdown",
   "metadata": {
    "id": "R3Y4cPhBva6l"
   },
   "source": [
    "# **Main Program**"
   ]
  },
  {
   "cell_type": "code",
   "execution_count": null,
   "metadata": {
    "id": "EobXiWtssfEG"
   },
   "outputs": [],
   "source": [
    "def main():\n",
    "  while True:\n",
    "    print(\"Select a Reservation Option:\")\n",
    "    print(\"[1] Rooms and Rates\")\n",
    "    print(\"[2] Reservations\")\n",
    "    print(\"[3] Reservation Cancellation\")\n",
    "    print(\"[4] Detailed Reservation Information\")\n",
    "    print(\"[5] Revenue\")\n",
    "    print(\"[6] Quit\")\n",
    "\n",
    "    choice = input()\n",
    "    if choice == \"1\":\n",
    "      cursor = conn.cursor()\n",
    "      cursor.execute(\"\"\"\n",
    "                      WITH PopTable AS (\n",
    "                        SELECT lab7_rooms.RoomCode,\n",
    "                            lab7_rooms.RoomName,\n",
    "                            lab7_rooms.Beds,\n",
    "                            lab7_rooms.bedType,\n",
    "                            lab7_rooms.maxOcc,\n",
    "                            lab7_rooms.basePrice,\n",
    "                            lab7_rooms.decor,\n",
    "                            ROUND(SUM(COALESCE(DATEDIFF(lab7_reservations.Checkout, lab7_reservations.CheckIn), 0)) / 180, 2) AS PopScore\n",
    "                        FROM lab7_rooms\n",
    "                        LEFT JOIN lab7_reservations\n",
    "                            ON lab7_rooms.RoomCode = lab7_reservations.Room\n",
    "                            AND lab7_reservations.CheckIn >= DATE_SUB(CURDATE(), INTERVAL 180 DAY)\n",
    "                        GROUP BY lab7_rooms.RoomCode\n",
    "                      ), NextAvailable AS (\n",
    "                        SELECT RoomCode,\n",
    "                        CASE WHEN\n",
    "                          -- If a reservation goes past the current date\n",
    "                          EXISTS (\n",
    "                            SELECT *\n",
    "                            FROM lab7_reservations\n",
    "                            WHERE lab7_reservations.Room = lab7_rooms.RoomCode\n",
    "                                AND lab7_reservations.CheckIn <= CURDATE()\n",
    "                                AND lab7_reservations.Checkout >= CURDATE()\n",
    "                          ) THEN (\n",
    "                            -- Get the earliest checkout date that occurred after the current date\n",
    "                            SELECT MIN(first_res.Checkout)\n",
    "                            FROM lab7_reservations AS first_res\n",
    "                            WHERE first_res.Room = lab7_rooms.RoomCode\n",
    "                              AND first_res.Checkout > CURDATE()\n",
    "                              -- See if another guest checked in on the date that the prev. reservaton checked out\n",
    "                              AND NOT EXISTS (\n",
    "                                SELECT *\n",
    "                                FROM lab7_reservations as second_res\n",
    "                                WHERE first_res.Room = second_res.Room\n",
    "                                  AND second_res.CheckIn = first_res.Checkout\n",
    "                              )\n",
    "                          )\n",
    "                          ELSE CURDATE()\n",
    "                        END AS NextAvailableCheckIn\n",
    "                        FROM lab7_rooms\n",
    "                      ), RecentReservations AS (\n",
    "                        SELECT RoomCode,\n",
    "                        DATEDIFF(\n",
    "                          (\n",
    "                            SELECT MAX(Checkout)\n",
    "                            FROM lab7_reservations\n",
    "                            WHERE lab7_rooms.RoomCode = lab7_reservations.Room\n",
    "                                AND lab7_reservations.Checkout <= CURDATE()\n",
    "                          ),\n",
    "                          (\n",
    "                            SELECT MAX(Checkin)\n",
    "                            FROM lab7_reservations\n",
    "                            WHERE lab7_rooms.RoomCode = lab7_reservations.Room\n",
    "                              AND lab7_reservations.Checkout <= CURDATE() \n",
    "                          )\n",
    "                        ) AS MostRecDuration,\n",
    "                        (\n",
    "                          SELECT MAX(Checkout)\n",
    "                          FROM lab7_reservations\n",
    "                          WHERE lab7_rooms.RoomCode = lab7_reservations.Room\n",
    "                            AND lab7_reservations.Checkout <= CURDATE()\n",
    "                        ) AS MostRecentCheckout\n",
    "                        FROM lab7_rooms\n",
    "                      )\n",
    "                      SELECT *\n",
    "                      FROM PopTable\n",
    "                      NATURAL JOIN NextAvailable\n",
    "                      NATURAL JOIN RecentReservations\n",
    "                      ORDER BY PopScore DESC;\n",
    "                     \"\"\")\n",
    "      result = cursor.fetchall()\n",
    "      print(result)\n",
    "    elif choice == \"2\":\n",
    "      pass\n",
    "    elif choice == \"3\":\n",
    "      pass\n",
    "    elif choice == \"4\":\n",
    "      pass\n",
    "    elif choice == \"5\":\n",
    "      pass\n",
    "    elif choice == \"6\":\n",
    "      break\n"
   ]
  },
  {
   "cell_type": "code",
   "execution_count": null,
   "metadata": {},
   "outputs": [],
   "source": [
    "if __name__ == \"__main__\":\n",
    "    main()"
   ]
  }
 ],
 "metadata": {
  "colab": {
   "authorship_tag": "ABX9TyOr+weSsgLfLIRTSg9jtwnI",
   "include_colab_link": true,
   "provenance": []
  },
  "kernelspec": {
   "display_name": "Python 3",
   "name": "python3"
  },
  "language_info": {
   "codemirror_mode": {
    "name": "ipython",
    "version": 3
   },
   "file_extension": ".py",
   "mimetype": "text/x-python",
   "name": "python",
   "nbconvert_exporter": "python",
   "pygments_lexer": "ipython3",
   "version": "3.11.2"
  }
 },
 "nbformat": 4,
 "nbformat_minor": 0
}
