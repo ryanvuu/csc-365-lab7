{
  "nbformat": 4,
  "nbformat_minor": 0,
  "metadata": {
    "colab": {
      "provenance": [],
      "authorship_tag": "ABX9TyN/u6eQv48UW1/6j9VXp7fl",
      "include_colab_link": true
    },
    "kernelspec": {
      "name": "python3",
      "display_name": "Python 3"
    },
    "language_info": {
      "name": "python"
    }
  },
  "cells": [
    {
      "cell_type": "markdown",
      "metadata": {
        "id": "view-in-github",
        "colab_type": "text"
      },
      "source": [
        "<a href=\"https://colab.research.google.com/github/ryanvuu/csc-365-lab7/blob/main/csc_365_lab7.ipynb\" target=\"_parent\"><img src=\"https://colab.research.google.com/assets/colab-badge.svg\" alt=\"Open In Colab\"/></a>"
      ]
    },
    {
      "cell_type": "code",
      "execution_count": null,
      "metadata": {
        "id": "1guNv1Oynh_7"
      },
      "outputs": [],
      "source": [
        "pip install mysql-connector-python pandas"
      ]
    },
    {
      "cell_type": "code",
      "source": [
        "import getpass\n",
        "db_password = getpass.getpass()\n",
        "# print(db_password)"
      ],
      "metadata": {
        "id": "9Lj8GkEpnjO-"
      },
      "execution_count": null,
      "outputs": []
    },
    {
      "cell_type": "code",
      "source": [
        "import mysql.connector\n",
        "conn = mysql.connector.connect(user='rvu03', password=db_password,\n",
        "                               host='mysql.labthreesixfive.com',\n",
        "                               database='rvu03')"
      ],
      "metadata": {
        "id": "dZZXvwcWnl4Q"
      },
      "execution_count": null,
      "outputs": []
    },
    {
      "cell_type": "code",
      "source": [
        "cursor = conn.cursor()\n",
        "cursor.execute(\"SELECT * FROM lab7_rooms\")\n",
        "result = cursor.fetchall()\n",
        "print(result)"
      ],
      "metadata": {
        "id": "LMRpGAF5nnQZ"
      },
      "execution_count": null,
      "outputs": []
    },
    {
      "cell_type": "code",
      "source": [],
      "metadata": {
        "id": "EobXiWtssfEG"
      },
      "execution_count": null,
      "outputs": []
    }
  ]
}