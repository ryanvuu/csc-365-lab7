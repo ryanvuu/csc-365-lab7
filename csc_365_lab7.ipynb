{
 "cells": [
  {
   "cell_type": "markdown",
   "metadata": {
    "colab_type": "text",
    "id": "view-in-github"
   },
   "source": [
    "<a href=\"https://colab.research.google.com/github/ryanvuu/csc-365-lab7/blob/main/csc_365_lab7.ipynb\" target=\"_parent\"><img src=\"https://colab.research.google.com/assets/colab-badge.svg\" alt=\"Open In Colab\"/></a>"
   ]
  },
  {
   "cell_type": "markdown",
   "metadata": {
    "id": "sNMF0OvUvt6h"
   },
   "source": [
    "Install libraries"
   ]
  },
  {
   "cell_type": "code",
   "execution_count": 32,
   "metadata": {
    "id": "1guNv1Oynh_7"
   },
   "outputs": [
    {
     "name": "stdout",
     "output_type": "stream",
     "text": [
      "Requirement already satisfied: mysql-connector-python in /Library/Frameworks/Python.framework/Versions/3.11/lib/python3.11/site-packages (9.1.0)\n",
      "\n",
      "\u001b[1m[\u001b[0m\u001b[34;49mnotice\u001b[0m\u001b[1;39;49m]\u001b[0m\u001b[39;49m A new release of pip available: \u001b[0m\u001b[31;49m22.3.1\u001b[0m\u001b[39;49m -> \u001b[0m\u001b[32;49m24.3.1\u001b[0m\n",
      "\u001b[1m[\u001b[0m\u001b[34;49mnotice\u001b[0m\u001b[1;39;49m]\u001b[0m\u001b[39;49m To update, run: \u001b[0m\u001b[32;49mpip3 install --upgrade pip\u001b[0m\n",
      "Note: you may need to restart the kernel to use updated packages.\n"
     ]
    }
   ],
   "source": [
    "%pip install mysql-connector-python\n",
    "import getpass\n",
    "import mysql.connector"
   ]
  },
  {
   "cell_type": "markdown",
   "metadata": {},
   "source": [
    "### FR1: Rooms and Rates ###"
   ]
  },
  {
   "cell_type": "code",
   "execution_count": 29,
   "metadata": {},
   "outputs": [],
   "source": [
    "def print_rooms_rates(conn):\n",
    "    with conn.cursor() as cursor:\n",
    "        cursor.execute(\"\"\"\n",
    "                        WITH PopTable AS (\n",
    "                            SELECT lab7_rooms.RoomCode,\n",
    "                                lab7_rooms.RoomName,\n",
    "                                lab7_rooms.Beds,\n",
    "                                lab7_rooms.bedType,\n",
    "                                lab7_rooms.maxOcc,\n",
    "                                lab7_rooms.basePrice,\n",
    "                                lab7_rooms.decor,\n",
    "                                ROUND(SUM(COALESCE(DATEDIFF(lab7_reservations.Checkout, lab7_reservations.CheckIn), 0)) / 180, 2) AS PopScore\n",
    "                            FROM lab7_rooms\n",
    "                            LEFT JOIN lab7_reservations\n",
    "                                ON lab7_rooms.RoomCode = lab7_reservations.Room\n",
    "                                AND lab7_reservations.CheckIn >= DATE_SUB(CURDATE(), INTERVAL 180 DAY)\n",
    "                            GROUP BY lab7_rooms.RoomCode\n",
    "                        ), NextAvailable AS (\n",
    "                            SELECT RoomCode,\n",
    "                            CASE WHEN\n",
    "                            -- If a reservation goes past the current date\n",
    "                            EXISTS (\n",
    "                                SELECT *\n",
    "                                FROM lab7_reservations\n",
    "                                WHERE lab7_reservations.Room = lab7_rooms.RoomCode\n",
    "                                    AND lab7_reservations.CheckIn <= CURDATE()\n",
    "                                    AND lab7_reservations.Checkout >= CURDATE()\n",
    "                            ) THEN (\n",
    "                                -- Get the earliest checkout date that occurred after the current date\n",
    "                                SELECT MIN(first_res.Checkout)\n",
    "                                FROM lab7_reservations AS first_res\n",
    "                                WHERE first_res.Room = lab7_rooms.RoomCode\n",
    "                                AND first_res.Checkout > CURDATE()\n",
    "                                -- See if another guest checked in on the date that the prev. reservaton checked out\n",
    "                                AND NOT EXISTS (\n",
    "                                    SELECT *\n",
    "                                    FROM lab7_reservations as second_res\n",
    "                                    WHERE first_res.Room = second_res.Room\n",
    "                                    AND second_res.CheckIn = first_res.Checkout\n",
    "                                )\n",
    "                            )\n",
    "                            ELSE CURDATE()\n",
    "                            END AS NextAvailableCheckIn\n",
    "                            FROM lab7_rooms\n",
    "                        ), RecentReservations AS (\n",
    "                            SELECT RoomCode,\n",
    "                            DATEDIFF(\n",
    "                            (\n",
    "                                SELECT MAX(Checkout)\n",
    "                                FROM lab7_reservations\n",
    "                                WHERE lab7_rooms.RoomCode = lab7_reservations.Room\n",
    "                                    AND lab7_reservations.Checkout <= CURDATE()\n",
    "                            ),\n",
    "                            (\n",
    "                                SELECT MAX(Checkin)\n",
    "                                FROM lab7_reservations\n",
    "                                WHERE lab7_rooms.RoomCode = lab7_reservations.Room\n",
    "                                AND lab7_reservations.Checkout <= CURDATE() \n",
    "                            )\n",
    "                            ) AS MostRecDuration,\n",
    "                            (\n",
    "                            SELECT MAX(Checkout)\n",
    "                            FROM lab7_reservations\n",
    "                            WHERE lab7_rooms.RoomCode = lab7_reservations.Room\n",
    "                                AND lab7_reservations.Checkout <= CURDATE()\n",
    "                            ) AS MostRecentCheckout\n",
    "                            FROM lab7_rooms\n",
    "                        )\n",
    "                        SELECT *\n",
    "                        FROM PopTable\n",
    "                        NATURAL JOIN NextAvailable\n",
    "                        NATURAL JOIN RecentReservations\n",
    "                        ORDER BY PopScore DESC;\n",
    "                        \"\"\")\n",
    "        result = cursor.fetchall()\n",
    "        print(result)"
   ]
  },
  {
   "cell_type": "markdown",
   "metadata": {},
   "source": [
    "### FR3: Cancel Reservation ###"
   ]
  },
  {
   "cell_type": "code",
   "execution_count": 35,
   "metadata": {},
   "outputs": [],
   "source": [
    "def cancel_reservation(conn):\n",
    "  with conn.cursor() as cursor:\n",
    "    print(\"Delete Reservation\")\n",
    "    print(\"----------\")\n",
    "    reservation_code = input(\"Enter Reservation Code: \")\n",
    "    cursor = conn.cursor()\n",
    "    cursor.execute(\"SELECT CODE, Room, CheckIn, Checkout, Rate, LastName, FirstName, Adults, Kids FROM lab7_reservations WHERE CODE = %s\", [reservation_code])\n",
    "    result = cursor.fetchall()\n",
    "    \n",
    "    if result:\n",
    "      print(result)\n",
    "      confirmation = input(\"Are you sure you want to cancel this reservation? [Y]es]\")\n",
    "\n",
    "      if confirmation in (\"Y\", \"Yes\"):\n",
    "          cursor.execute(\"DELETE FROM lab7_reservations WHERE CODE = %s\", [reservation_code])\n",
    "          conn.commit()\n",
    "          print(\"You successfully cancelled the reservation. Thank you for considering us!\")\n",
    "      else:\n",
    "          print(\"The reservation was not cancelled. Thank you for your staying with us!\")\n",
    "    else:\n",
    "        print(\"The reservation code was not found. Please double check your code and try again.\")"
   ]
  },
  {
   "cell_type": "markdown",
   "metadata": {
    "id": "R3Y4cPhBva6l"
   },
   "source": [
    "# **Main Program**"
   ]
  },
  {
   "cell_type": "code",
   "execution_count": 36,
   "metadata": {},
   "outputs": [],
   "source": [
    "def main():\n",
    "    try:\n",
    "        db_password = getpass.getpass()\n",
    "        conn = mysql.connector.connect(user='rvu03', password=db_password,\n",
    "                               host='mysql.labthreesixfive.com',\n",
    "                               database='rvu03')\n",
    "        cursor = conn.cursor()\n",
    "        while True:\n",
    "            print(\"Select a Reservation Option:\")\n",
    "            print(\"[1] Rooms and Rates\")\n",
    "            print(\"[2] Reservations\")\n",
    "            print(\"[3] Reservation Cancellation\")\n",
    "            print(\"[4] Detailed Reservation Information\")\n",
    "            print(\"[5] Revenue\")\n",
    "            print(\"[6] Quit\")\n",
    "\n",
    "            choice = input()\n",
    "            if choice == \"1\":\n",
    "                print_rooms_rates(conn)\n",
    "            elif choice == \"2\":\n",
    "                pass\n",
    "            elif choice == \"3\":\n",
    "                cancel_reservation(conn)\n",
    "            elif choice == \"4\":\n",
    "                pass\n",
    "            elif choice == \"5\":\n",
    "                pass\n",
    "            elif choice == \"6\":\n",
    "                break\n",
    "    finally:\n",
    "        cursor.close()\n",
    "        conn.close()"
   ]
  },
  {
   "cell_type": "code",
   "execution_count": 37,
   "metadata": {},
   "outputs": [
    {
     "name": "stdout",
     "output_type": "stream",
     "text": [
      "Select a Reservation Option:\n",
      "[1] Rooms and Rates\n",
      "[2] Reservations\n",
      "[3] Reservation Cancellation\n",
      "[4] Detailed Reservation Information\n",
      "[5] Revenue\n",
      "[6] Quit\n",
      "[('TAA', 'Thrift and accolade', 1, 'Double', 2, Decimal('75.00'), 'modern', Decimal('0.12'), datetime.date(2024, 12, 6), 12, datetime.date(2024, 7, 12)), ('IBD', 'Immutable before decorum', 2, 'Queen', 4, Decimal('150.00'), 'rustic', Decimal('0.11'), datetime.date(2024, 12, 6), 1, datetime.date(2024, 7, 1)), ('HBB', 'Harbinger but bequest', 1, 'Queen', 2, Decimal('100.00'), 'modern', Decimal('0.10'), datetime.date(2024, 12, 6), 6, datetime.date(2024, 7, 6)), ('FNA', 'Frugal not apropos', 2, 'King', 4, Decimal('250.00'), 'traditional', Decimal('0.09'), datetime.date(2024, 12, 6), 4, datetime.date(2024, 7, 4)), ('RND', 'Recluse and defiance', 1, 'King', 2, Decimal('150.00'), 'modern', Decimal('0.09'), datetime.date(2024, 12, 6), 2, datetime.date(2024, 7, 2)), ('RTE', 'Riddle to exculpate', 2, 'Queen', 4, Decimal('175.00'), 'rustic', Decimal('0.08'), datetime.date(2024, 12, 6), 6, datetime.date(2024, 7, 4)), ('AOB', 'Abscond or bolster', 2, 'Queen', 4, Decimal('175.00'), 'traditional', Decimal('0.07'), datetime.date(2024, 12, 6), 3, datetime.date(2024, 7, 1)), ('IBS', 'Interim but salutary', 1, 'King', 2, Decimal('150.00'), 'traditional', Decimal('0.07'), datetime.date(2024, 12, 6), 1, datetime.date(2024, 7, 1)), ('CAS', 'Convoke and sanguine', 2, 'King', 4, Decimal('175.00'), 'traditional', Decimal('0.06'), datetime.date(2024, 12, 6), 8, datetime.date(2024, 7, 8)), ('MWC', 'Mendicant with cryptic', 2, 'Double', 4, Decimal('125.00'), 'modern', Decimal('0.06'), datetime.date(2024, 12, 6), 4, datetime.date(2024, 7, 4))]\n",
      "Select a Reservation Option:\n",
      "[1] Rooms and Rates\n",
      "[2] Reservations\n",
      "[3] Reservation Cancellation\n",
      "[4] Detailed Reservation Information\n",
      "[5] Revenue\n",
      "[6] Quit\n",
      "Delete Reservation\n",
      "----------\n",
      "The reservation code was not found. Please double check your code and try again.\n",
      "Select a Reservation Option:\n",
      "[1] Rooms and Rates\n",
      "[2] Reservations\n",
      "[3] Reservation Cancellation\n",
      "[4] Detailed Reservation Information\n",
      "[5] Revenue\n",
      "[6] Quit\n",
      "Select a Reservation Option:\n",
      "[1] Rooms and Rates\n",
      "[2] Reservations\n",
      "[3] Reservation Cancellation\n",
      "[4] Detailed Reservation Information\n",
      "[5] Revenue\n",
      "[6] Quit\n"
     ]
    }
   ],
   "source": [
    "if __name__ == \"__main__\":\n",
    "    main()"
   ]
  }
 ],
 "metadata": {
  "colab": {
   "authorship_tag": "ABX9TyOr+weSsgLfLIRTSg9jtwnI",
   "include_colab_link": true,
   "provenance": []
  },
  "kernelspec": {
   "display_name": "Python 3",
   "name": "python3"
  },
  "language_info": {
   "codemirror_mode": {
    "name": "ipython",
    "version": 3
   },
   "file_extension": ".py",
   "mimetype": "text/x-python",
   "name": "python",
   "nbconvert_exporter": "python",
   "pygments_lexer": "ipython3",
   "version": "3.11.2"
  }
 },
 "nbformat": 4,
 "nbformat_minor": 0
}
