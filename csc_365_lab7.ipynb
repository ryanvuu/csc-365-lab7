{
 "cells": [
  {
   "cell_type": "markdown",
   "metadata": {
    "colab_type": "text",
    "id": "view-in-github"
   },
   "source": [
    "<a href=\"https://colab.research.google.com/github/ryanvuu/csc-365-lab7/blob/main/csc_365_lab7.ipynb\" target=\"_parent\"><img src=\"https://colab.research.google.com/assets/colab-badge.svg\" alt=\"Open In Colab\"/></a>"
   ]
  },
  {
   "cell_type": "markdown",
   "metadata": {
    "id": "sNMF0OvUvt6h"
   },
   "source": [
    "Install libraries"
   ]
  },
  {
   "cell_type": "code",
   "execution_count": 1,
   "metadata": {
    "id": "1guNv1Oynh_7"
   },
   "outputs": [
    {
     "name": "stdout",
     "output_type": "stream",
     "text": [
      "Requirement already satisfied: mysql-connector-python in c:\\users\\linki\\appdata\\local\\packages\\pythonsoftwarefoundation.python.3.10_qbz5n2kfra8p0\\localcache\\local-packages\\python310\\site-packages (9.1.0)\n",
      "Note: you may need to restart the kernel to use updated packages.\n"
     ]
    },
    {
     "name": "stderr",
     "output_type": "stream",
     "text": [
      "\n",
      "[notice] A new release of pip is available: 23.0.1 -> 24.3.1\n",
      "[notice] To update, run: C:\\Users\\linki\\AppData\\Local\\Microsoft\\WindowsApps\\PythonSoftwareFoundation.Python.3.10_qbz5n2kfra8p0\\python.exe -m pip install --upgrade pip\n"
     ]
    }
   ],
   "source": [
    "%pip install mysql-connector-python\n",
    "import getpass\n",
    "import mysql.connector\n",
    "from datetime import datetime"
   ]
  },
  {
   "cell_type": "markdown",
   "metadata": {},
   "source": [
    "### FR1: Rooms and Rates ###"
   ]
  },
  {
   "cell_type": "code",
   "execution_count": 2,
   "metadata": {},
   "outputs": [],
   "source": [
    "def print_rooms_rates(conn):\n",
    "    with conn.cursor() as cursor:\n",
    "        cursor.execute(\"\"\"\n",
    "                        WITH PopTable AS (\n",
    "                            SELECT lab7_rooms.RoomCode,\n",
    "                                lab7_rooms.RoomName,\n",
    "                                lab7_rooms.Beds,\n",
    "                                lab7_rooms.bedType,\n",
    "                                lab7_rooms.maxOcc,\n",
    "                                lab7_rooms.basePrice,\n",
    "                                lab7_rooms.decor,\n",
    "                                ROUND(SUM(COALESCE(DATEDIFF(lab7_reservations.Checkout, lab7_reservations.CheckIn), 0)) / 180, 2) AS PopScore\n",
    "                            FROM lab7_rooms\n",
    "                            LEFT JOIN lab7_reservations\n",
    "                                ON lab7_rooms.RoomCode = lab7_reservations.Room\n",
    "                                AND lab7_reservations.CheckIn >= DATE_SUB(CURDATE(), INTERVAL 180 DAY)\n",
    "                            GROUP BY lab7_rooms.RoomCode\n",
    "                        ), NextAvailable AS (\n",
    "                            SELECT RoomCode,\n",
    "                            CASE WHEN\n",
    "                            -- If a reservation goes past the current date\n",
    "                            EXISTS (\n",
    "                                SELECT *\n",
    "                                FROM lab7_reservations\n",
    "                                WHERE lab7_reservations.Room = lab7_rooms.RoomCode\n",
    "                                    AND lab7_reservations.CheckIn <= CURDATE()\n",
    "                                    AND lab7_reservations.Checkout >= CURDATE()\n",
    "                            ) THEN (\n",
    "                                -- Get the earliest checkout date that occurred after the current date\n",
    "                                SELECT MIN(first_res.Checkout)\n",
    "                                FROM lab7_reservations AS first_res\n",
    "                                WHERE first_res.Room = lab7_rooms.RoomCode\n",
    "                                AND first_res.Checkout > CURDATE()\n",
    "                                -- See if another guest checked in on the date that the prev. reservaton checked out\n",
    "                                AND NOT EXISTS (\n",
    "                                    SELECT *\n",
    "                                    FROM lab7_reservations as second_res\n",
    "                                    WHERE first_res.Room = second_res.Room\n",
    "                                    AND second_res.CheckIn = first_res.Checkout\n",
    "                                )\n",
    "                            )\n",
    "                            ELSE CURDATE()\n",
    "                            END AS NextAvailableCheckIn\n",
    "                            FROM lab7_rooms\n",
    "                        ), RecentReservations AS (\n",
    "                            SELECT RoomCode,\n",
    "                            DATEDIFF(\n",
    "                            (\n",
    "                                SELECT MAX(Checkout)\n",
    "                                FROM lab7_reservations\n",
    "                                WHERE lab7_rooms.RoomCode = lab7_reservations.Room\n",
    "                                    AND lab7_reservations.Checkout <= CURDATE()\n",
    "                            ),\n",
    "                            (\n",
    "                                SELECT MAX(Checkin)\n",
    "                                FROM lab7_reservations\n",
    "                                WHERE lab7_rooms.RoomCode = lab7_reservations.Room\n",
    "                                AND lab7_reservations.Checkout <= CURDATE() \n",
    "                            )\n",
    "                            ) AS MostRecDuration,\n",
    "                            (\n",
    "                            SELECT MAX(Checkout)\n",
    "                            FROM lab7_reservations\n",
    "                            WHERE lab7_rooms.RoomCode = lab7_reservations.Room\n",
    "                                AND lab7_reservations.Checkout <= CURDATE()\n",
    "                            ) AS MostRecentCheckout\n",
    "                            FROM lab7_rooms\n",
    "                        )\n",
    "                        SELECT *\n",
    "                        FROM PopTable\n",
    "                        NATURAL JOIN NextAvailable\n",
    "                        NATURAL JOIN RecentReservations\n",
    "                        ORDER BY PopScore DESC;\n",
    "                        \"\"\")\n",
    "        result = cursor.fetchall()\n",
    "        print(result)"
   ]
  },
  {
   "cell_type": "markdown",
   "metadata": {},
   "source": [
    "### FR2: Reservations ###"
   ]
  },
  {
   "cell_type": "code",
   "execution_count": 3,
   "metadata": {},
   "outputs": [],
   "source": [
    "def make_reservation(conn):\n",
    "  with conn.cursor() as cursor:\n",
    "    first_name = input(\"Enter first name: \")\n",
    "    last_name = input(\"Enter last name: \")\n",
    "\n",
    "    if not first_name.isalpha() or not last_name.isalpha():\n",
    "      print(\"Error: Invalid name(s), they should only include letters!\")\n",
    "      return\n",
    "\n",
    "    room_code = input(\"Enter room code [OPTIONAL: Any]: \")\n",
    "    if room_code.capitalize() != \"Any\":\n",
    "      cursor.execute(\"SELECT COUNT(*) FROM rvu03.lab7_rooms WHERE ROOMCODE = %s\", [room_code])\n",
    "      if cursor.fetchone()[0] == 0:\n",
    "        print(\"Error: Invalid room code!\")\n",
    "        return\n",
    "\n",
    "    bed_type = input(\"Enter bed type [OPTIONAL: Any]: \")\n",
    "    if bed_type.capitalize() != \"Any\":\n",
    "      cursor.execute(\"SELECT COUNT(*) FROM rvu03.lab7_rooms WHERE bedType = %s\", [bed_type])\n",
    "      if cursor.fetchone()[0] == 0:\n",
    "        print(\"Error: Invalid bed type!\")\n",
    "        return\n",
    "    try:     \n",
    "      checkin = input(\"Enter checkin date in the following format YYYY-MM-DD: \")\n",
    "      checkout = input(\"Enter checkout date in the following format YYYY-MM-DD: \")\n",
    "\n",
    "      checkin = datetime.strptime(checkin, \"%Y-%m-%d\")\n",
    "      checkout = datetime.strptime(checkout, \"%Y-%m-%d\")\n",
    "\n",
    "      if checkin >= checkout:\n",
    "        print(\"Invalid checkin and checkout times. Please try again.\")\n",
    "        return\n",
    "    except ValueError:\n",
    "        print(\"Invalid date format, it should be YYYY-MM-DD.\")\n",
    "        return\n",
    "    \n",
    "    try:\n",
    "      num_adults = input(\"Enter number of adults for reservation: \")\n",
    "      num_children = input(\"Enter number of children for reservation: \")\n",
    "\n",
    "      if not num_adults.isdigit() or not num_children.isdigit():\n",
    "        print(\"Error: Invalid number of adults and children must be numerics values.\")\n",
    "      \n",
    "      num_adults = int(num_adults)\n",
    "      num_children = int(num_children)\n",
    "\n",
    "      num_guests = num_adults + num_children\n",
    "      if num_guests <= 0:\n",
    "        print(\"Error: Invalid total number of guests, you need at least one person in the room.\")\n",
    "    except ValueError:\n",
    "      print(\"Invalid adults and children numbers!\")\n",
    "      "
   ]
  },
  {
   "cell_type": "markdown",
   "metadata": {},
   "source": [
    "### FR3: Reservation Cancellation ###"
   ]
  },
  {
   "cell_type": "code",
   "execution_count": 4,
   "metadata": {},
   "outputs": [],
   "source": [
    "def cancel_reservation(conn):\n",
    "  with conn.cursor() as cursor:\n",
    "    print(\"Delete Reservation\")\n",
    "    print(\"----------\")\n",
    "    reservation_code = input(\"Enter Reservation Code: \")\n",
    "    cursor = conn.cursor()\n",
    "    cursor.execute(\"SELECT CODE, Room, CheckIn, Checkout, Rate, LastName, FirstName, Adults, Kids FROM lab7_reservations WHERE CODE = %s\", [reservation_code])\n",
    "    result = cursor.fetchall()\n",
    "    \n",
    "    if result:\n",
    "      print(result)\n",
    "      confirmation = input(\"Are you sure you want to cancel this reservation? [Y]es]\")\n",
    "\n",
    "      if confirmation in (\"Y\", \"Yes\"):\n",
    "          cursor.execute(\"DELETE FROM lab7_reservations WHERE CODE = %s\", [reservation_code])\n",
    "          conn.commit()\n",
    "          print(\"You successfully cancelled the reservation. Thank you for considering us!\")\n",
    "      else:\n",
    "          print(\"The reservation was not cancelled. Thank you for your staying with us!\")\n",
    "    else:\n",
    "        print(\"The reservation code was not found. Please double check your code and try again.\")"
   ]
  },
  {
   "cell_type": "markdown",
   "metadata": {},
   "source": [
    "### FR4: Reservation Information ###"
   ]
  },
  {
   "cell_type": "code",
   "execution_count": null,
   "metadata": {},
   "outputs": [],
   "source": [
    "def reservation_details(conn):\n",
    "  with conn.cursor() as cursor:\n",
    "    print(\"\\nDetailed Reservation Information Filters\")\n",
    "    print(\"----------\")\n",
    "    query = \"\"\"SELECT Code, Room, RoomName, Beds, BedType, CheckIn, CheckOut, Rate, LastName, FirstName, Adults, Kids \n",
    "    FROM lab7_reservations JOIN lab7_rooms ON lab7_rooms.RoomCode = lab7_reservations.Room\"\"\"\n",
    "    filters = []\n",
    "    inputs = []\n",
    "\n",
    "    first_name = input(\"[OPTIONAL] Enter the first name: \")\n",
    "    if first_name:\n",
    "      print(\"First name filter by: \", first_name)\n",
    "      filters.append('FirstName LIKE %s')\n",
    "      inputs.append(f\"{first_name}\")\n",
    "    \n",
    "    last_name = input(\"[OPTIONAL] Enter the last name: \")\n",
    "    if last_name:\n",
    "      print(\"Last name filter by: \", last_name)\n",
    "      filters.append('LastName LIKE %s')\n",
    "      inputs.append(f\"{last_name}\")\n",
    "\n",
    "    begin_date = input(\"[OPTIONAL] Enter lower bound of reservation date: \")\n",
    "    if begin_date:\n",
    "      print(\"Lower bound of reservations: \", begin_date)\n",
    "      filters.append('Checkin >= %s')\n",
    "      inputs.append(f\"{begin_date}\")\n",
    "\n",
    "    end_date = input(\"[OPTIONAL] Enter upper bound of reservation date: \")\n",
    "    if end_date:\n",
    "      print(\"Upper bound of reservations: \", end_date)\n",
    "      filters.append('Checkout <= %s' % end_date)\n",
    "      inputs.append(f\"{end_date}\")\n",
    "\n",
    "    room = input(\"[OPTIONAL] Enter room code: \")    \n",
    "    if room:\n",
    "      print(\"Room code filter by: \", room)\n",
    "      filters.append('Room LIKE %s')\n",
    "      inputs.append(f\"{room}\")\n",
    "\n",
    "    reserve = input(\"[OPTIONAL] Enter reservation code: \")    \n",
    "    if reserve:\n",
    "      print(\"Reservation code filter by: \", reserve)\n",
    "      filters.append('Code LIKE %s')\n",
    "      inputs.append(f\"{reserve}\")\n",
    "\n",
    "\n",
    "    if filters:\n",
    "      query += \" WHERE \" + \" and \".join(filters)\n",
    "\n",
    "    cursor.execute(query, inputs)\n",
    "    result = cursor.fetchall()\n",
    "\n",
    "    print(\"Matching Reservations\")\n",
    "    print(\"----------\")\n",
    "    for row in result:\n",
    "      print(\"\"\"Reservation Code: %s, Room Code: %s, Room Name: %s\n",
    "            Beds: %s, BedType: %s, Check-In: %s, Check-Out: %s\n",
    "            Rate %s, Last Name: %s, First Name: %s, Adults: %s, Kids: %s \\n\"\"\" \n",
    "            % (row[0], row[1], row[2], \n",
    "            row[3], row[4], row[5].strftime('%Y-%m-%d'), row[6].strftime('%Y-%m-%d'),\n",
    "            row[7], row[8], row[9], row[10], row[11]))"
   ]
  },
  {
   "cell_type": "markdown",
   "metadata": {},
   "source": [
    "### FR5: Revenue ###"
   ]
  },
  {
   "cell_type": "code",
   "execution_count": 6,
   "metadata": {},
   "outputs": [],
   "source": [
    "def check_revenue(conn):\n",
    "  with conn.cursor() as cursor:\n",
    "    print(\"Check revenue\")\n",
    "    print(\"----------\")\n",
    "    cursor = conn.cursor()\n",
    "    cursor.execute(\"SELECT * FROM lab7_reservations\")\n",
    "    result = cursor.fetchall()\n",
    "    print(result)\n",
    "    \n"
   ]
  },
  {
   "cell_type": "markdown",
   "metadata": {
    "id": "R3Y4cPhBva6l"
   },
   "source": [
    "# **Main Program**"
   ]
  },
  {
   "cell_type": "code",
   "execution_count": null,
   "metadata": {},
   "outputs": [],
   "source": [
    "def main():\n",
    "    try:\n",
    "        db_password = getpass.getpass()\n",
    "        conn = mysql.connector.connect(user='rvu03', password=db_password,\n",
    "                               host='mysql.labthreesixfive.com',\n",
    "                               database='rvu03')\n",
    "        cursor = conn.cursor()\n",
    "        while True:\n",
    "            print(\"Select a Reservation Option:\")\n",
    "            print(\"[1] Rooms and Rates\")\n",
    "            print(\"[2] Reservations\")\n",
    "            print(\"[3] Reservation Cancellation\")\n",
    "            print(\"[4] Detailed Reservation Information\")\n",
    "            print(\"[5] Revenue\")\n",
    "            print(\"[6] Quit\")\n",
    "\n",
    "            choice = input()\n",
    "            if choice == \"1\":\n",
    "                print_rooms_rates(conn)\n",
    "            elif choice == \"2\":\n",
    "                make_reservation(conn)\n",
    "            elif choice == \"3\":\n",
    "                cancel_reservation(conn)\n",
    "            elif choice == \"4\":\n",
    "                reservation_details(conn)\n",
    "            elif choice == \"5\":\n",
    "                check_revenue(conn)\n",
    "            elif choice == \"6\":\n",
    "                break\n",
    "    finally:\n",
    "        cursor.close()\n",
    "        conn.close()"
   ]
  },
  {
   "cell_type": "code",
   "execution_count": null,
   "metadata": {},
   "outputs": [],
   "source": [
    "if __name__ == \"__main__\":\n",
    "    main()"
   ]
  }
 ],
 "metadata": {
  "colab": {
   "authorship_tag": "ABX9TyOr+weSsgLfLIRTSg9jtwnI",
   "include_colab_link": true,
   "provenance": []
  },
  "kernelspec": {
   "display_name": "Python 3",
   "name": "python3"
  },
  "language_info": {
   "codemirror_mode": {
    "name": "ipython",
    "version": 3
   },
   "file_extension": ".py",
   "mimetype": "text/x-python",
   "name": "python",
   "nbconvert_exporter": "python",
   "pygments_lexer": "ipython3",
   "version": "3.10.11"
  }
 },
 "nbformat": 4,
 "nbformat_minor": 0
}
