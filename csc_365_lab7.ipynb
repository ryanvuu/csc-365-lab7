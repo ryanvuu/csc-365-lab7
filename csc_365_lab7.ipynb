{
 "cells": [
  {
   "cell_type": "markdown",
   "metadata": {
    "colab_type": "text",
    "id": "view-in-github"
   },
   "source": [
    "<a href=\"https://colab.research.google.com/github/ryanvuu/csc-365-lab7/blob/main/csc_365_lab7.ipynb\" target=\"_parent\"><img src=\"https://colab.research.google.com/assets/colab-badge.svg\" alt=\"Open In Colab\"/></a>"
   ]
  },
  {
   "cell_type": "code",
   "execution_count": 1,
   "metadata": {},
   "outputs": [
    {
     "name": "stdout",
     "output_type": "stream",
     "text": [
      "Requirement already satisfied: python-dotenv in /Library/Frameworks/Python.framework/Versions/3.11/lib/python3.11/site-packages (1.0.1)\n",
      "\n",
      "\u001b[1m[\u001b[0m\u001b[34;49mnotice\u001b[0m\u001b[1;39;49m]\u001b[0m\u001b[39;49m A new release of pip available: \u001b[0m\u001b[31;49m22.3.1\u001b[0m\u001b[39;49m -> \u001b[0m\u001b[32;49m24.3.1\u001b[0m\n",
      "\u001b[1m[\u001b[0m\u001b[34;49mnotice\u001b[0m\u001b[1;39;49m]\u001b[0m\u001b[39;49m To update, run: \u001b[0m\u001b[32;49mpip3 install --upgrade pip\u001b[0m\n",
      "Note: you may need to restart the kernel to use updated packages.\n"
     ]
    }
   ],
   "source": [
    "%pip install python-dotenv"
   ]
  },
  {
   "cell_type": "code",
   "execution_count": 2,
   "metadata": {},
   "outputs": [],
   "source": [
    "from dotenv import load_dotenv\n",
    "import os\n",
    "\n",
    "load_dotenv()\n",
    "username = os.getenv(\"username\")"
   ]
  },
  {
   "cell_type": "markdown",
   "metadata": {
    "id": "sNMF0OvUvt6h"
   },
   "source": [
    "Install libraries"
   ]
  },
  {
   "cell_type": "code",
   "execution_count": 3,
   "metadata": {
    "id": "1guNv1Oynh_7"
   },
   "outputs": [
    {
     "name": "stdout",
     "output_type": "stream",
     "text": [
      "Requirement already satisfied: mysql-connector-python in /Library/Frameworks/Python.framework/Versions/3.11/lib/python3.11/site-packages (9.1.0)\n",
      "\n",
      "\u001b[1m[\u001b[0m\u001b[34;49mnotice\u001b[0m\u001b[1;39;49m]\u001b[0m\u001b[39;49m A new release of pip available: \u001b[0m\u001b[31;49m22.3.1\u001b[0m\u001b[39;49m -> \u001b[0m\u001b[32;49m24.3.1\u001b[0m\n",
      "\u001b[1m[\u001b[0m\u001b[34;49mnotice\u001b[0m\u001b[1;39;49m]\u001b[0m\u001b[39;49m To update, run: \u001b[0m\u001b[32;49mpip3 install --upgrade pip\u001b[0m\n",
      "Note: you may need to restart the kernel to use updated packages.\n"
     ]
    }
   ],
   "source": [
    "pip install mysql-connector-python"
   ]
  },
  {
   "cell_type": "code",
   "execution_count": 4,
   "metadata": {
    "id": "9Lj8GkEpnjO-"
   },
   "outputs": [],
   "source": [
    "import getpass\n",
    "db_password = getpass.getpass()\n",
    "# print(db_password)"
   ]
  },
  {
   "cell_type": "code",
   "execution_count": 6,
   "metadata": {
    "id": "dZZXvwcWnl4Q"
   },
   "outputs": [],
   "source": [
    "import mysql.connector\n",
    "conn = mysql.connector.connect(user=username, password=db_password,\n",
    "                               host='mysql.labthreesixfive.com',\n",
    "                               database='rvu03')"
   ]
  },
  {
   "cell_type": "code",
   "execution_count": 6,
   "metadata": {
    "id": "LMRpGAF5nnQZ"
   },
   "outputs": [
    {
     "name": "stdout",
     "output_type": "stream",
     "text": [
      "[('AOB', 'Abscond or bolster', 2, 'Queen', 4, Decimal('175.00'), 'traditional'), ('CAS', 'Convoke and sanguine', 2, 'King', 4, Decimal('175.00'), 'traditional'), ('FNA', 'Frugal not apropos', 2, 'King', 4, Decimal('250.00'), 'traditional'), ('HBB', 'Harbinger but bequest', 1, 'Queen', 2, Decimal('100.00'), 'modern'), ('IBD', 'Immutable before decorum', 2, 'Queen', 4, Decimal('150.00'), 'rustic'), ('IBS', 'Interim but salutary', 1, 'King', 2, Decimal('150.00'), 'traditional'), ('MWC', 'Mendicant with cryptic', 2, 'Double', 4, Decimal('125.00'), 'modern'), ('RND', 'Recluse and defiance', 1, 'King', 2, Decimal('150.00'), 'modern'), ('RTE', 'Riddle to exculpate', 2, 'Queen', 4, Decimal('175.00'), 'rustic'), ('TAA', 'Thrift and accolade', 1, 'Double', 2, Decimal('75.00'), 'modern')]\n"
     ]
    }
   ],
   "source": [
    "cursor = conn.cursor()\n",
    "cursor.execute(\"SELECT * FROM lab7_rooms\")\n",
    "result = cursor.fetchall()\n",
    "print(result)"
   ]
  },
  {
   "cell_type": "markdown",
   "metadata": {},
   "source": [
    "### FR1: Rooms and Rates ###"
   ]
  },
  {
   "cell_type": "code",
   "execution_count": null,
   "metadata": {},
   "outputs": [],
   "source": [
    "pass"
   ]
  },
  {
   "cell_type": "markdown",
   "metadata": {
    "id": "R3Y4cPhBva6l"
   },
   "source": [
    "# **Main Program**"
   ]
  },
  {
   "cell_type": "code",
   "execution_count": null,
   "metadata": {
    "id": "EobXiWtssfEG"
   },
   "outputs": [],
   "source": [
    "def main():\n",
    "  while True:\n",
    "    print(\"Select a Reservation Option:\")\n",
    "    print(\"[1] Rooms and Rates\")\n",
    "    print(\"[2] Reservations\")\n",
    "    print(\"[3] Reservation Cancellation\")\n",
    "    print(\"[4] Detailed Reservation Information\")\n",
    "    print(\"[5] Revenue\")\n",
    "    print(\"[6] Quit\")\n",
    "\n",
    "    choice = input()\n",
    "    if choice == \"1\":\n",
    "      cursor = conn.cursor()\n",
    "      cursor.execute(\"\"\"\n",
    "                      WITH PopTable AS (\n",
    "                        SELECT lab7_rooms.RoomCode,\n",
    "                            lab7_rooms.RoomName,\n",
    "                            lab7_rooms.Beds,\n",
    "                            lab7_rooms.bedType,\n",
    "                            lab7_rooms.maxOcc,\n",
    "                            lab7_rooms.basePrice,\n",
    "                            lab7_rooms.decor,\n",
    "                            ROUND(SUM(DATEDIFF(lab7_reservations.Checkout, lab7_reservations.CheckIn)) / 180, 2) AS PopScore\n",
    "                        FROM lab7_rooms\n",
    "                        LEFT JOIN lab7_reservations\n",
    "                            ON lab7_rooms.RoomCode = lab7_reservations.Room\n",
    "                            AND lab7_reservations.CheckIn >= DATE_SUB(CURDATE(), INTERVAL 180 DAY)\n",
    "                        GROUP BY lab7_rooms.RoomCode\n",
    "                      ), RecentReservations AS (\n",
    "                        SELECT lab7_rooms.RoomCode,\n",
    "                            MAX(lab7_reservations.CheckIn) AS MostRecentCheckIn,\n",
    "                            MAX(lab7_reservations.Checkout) AS MostRecentCheckout\n",
    "                        FROM lab7_rooms\n",
    "                        INNER JOIN lab7_reservations\n",
    "                            ON lab7_rooms.RoomCode = lab7_reservations.Room\n",
    "                        GROUP BY lab7_rooms.RoomCode\n",
    "                      )\n",
    "                      SELECT PopTable.RoomCode,\n",
    "                          PopTable.RoomName,\n",
    "                          PopTable.Beds,\n",
    "                          PopTable.bedType,\n",
    "                          PopTable.maxOcc,\n",
    "                          PopTable.basePrice,\n",
    "                          PopTable.decor,\n",
    "                          PopTable.PopScore,\n",
    "                          DATE_ADD(RecentReservations.MostRecentCheckout, INTERVAL 1 DAY) AS NextAvailableCheckIn,\n",
    "                          DATEDIFF(RecentReservations.MostRecentCheckout, RecentReservations.MostRecentCheckIn) AS MostRecentDuration\n",
    "                      FROM PopTable\n",
    "                      INNER JOIN RecentReservations\n",
    "                          ON PopTable.RoomCode = RecentReservations.RoomCode\n",
    "                      ORDER BY PopTable.PopScore DESC;\n",
    "                     \"\"\")\n",
    "      result = cursor.fetchall()\n",
    "      print(result)\n",
    "    elif choice == \"2\":\n",
    "      pass\n",
    "    elif choice == \"3\":\n",
    "      pass\n",
    "    elif choice == \"4\":\n",
    "      pass\n",
    "    elif choice == \"5\":\n",
    "      pass\n",
    "    elif choice == \"6\":\n",
    "      break\n"
   ]
  },
  {
   "cell_type": "code",
   "execution_count": 8,
   "metadata": {},
   "outputs": [
    {
     "name": "stdout",
     "output_type": "stream",
     "text": [
      "Select a Reservation Option:\n",
      "[1] Rooms and Rates\n",
      "[2] Reservations\n",
      "[3] Reservation Cancellation\n",
      "[4] Detailed Reservation Information\n",
      "[5] Revenue\n",
      "[6] Quit\n",
      "[('TAA', 'Thrift and accolade', 1, 'Double', 2, Decimal('75.00'), 'modern', Decimal('0.12'), datetime.date(2024, 7, 13), 12), ('IBD', 'Immutable before decorum', 2, 'Queen', 4, Decimal('150.00'), 'rustic', Decimal('0.11'), datetime.date(2024, 7, 2), 1), ('HBB', 'Harbinger but bequest', 1, 'Queen', 2, Decimal('100.00'), 'modern', Decimal('0.10'), datetime.date(2024, 7, 7), 6), ('FNA', 'Frugal not apropos', 2, 'King', 4, Decimal('250.00'), 'traditional', Decimal('0.09'), datetime.date(2024, 7, 5), 4), ('RND', 'Recluse and defiance', 1, 'King', 2, Decimal('150.00'), 'modern', Decimal('0.09'), datetime.date(2024, 7, 3), 2), ('AOB', 'Abscond or bolster', 2, 'Queen', 4, Decimal('175.00'), 'traditional', Decimal('0.08'), datetime.date(2024, 7, 2), 3), ('RTE', 'Riddle to exculpate', 2, 'Queen', 4, Decimal('175.00'), 'rustic', Decimal('0.08'), datetime.date(2024, 7, 5), 6), ('IBS', 'Interim but salutary', 1, 'King', 2, Decimal('150.00'), 'traditional', Decimal('0.07'), datetime.date(2024, 7, 2), 1), ('CAS', 'Convoke and sanguine', 2, 'King', 4, Decimal('175.00'), 'traditional', Decimal('0.06'), datetime.date(2024, 7, 9), 8), ('MWC', 'Mendicant with cryptic', 2, 'Double', 4, Decimal('125.00'), 'modern', Decimal('0.06'), datetime.date(2024, 7, 5), 4)]\n",
      "Select a Reservation Option:\n",
      "[1] Rooms and Rates\n",
      "[2] Reservations\n",
      "[3] Reservation Cancellation\n",
      "[4] Detailed Reservation Information\n",
      "[5] Revenue\n",
      "[6] Quit\n"
     ]
    }
   ],
   "source": [
    "if __name__ == \"__main__\":\n",
    "    main()"
   ]
  }
 ],
 "metadata": {
  "colab": {
   "authorship_tag": "ABX9TyOr+weSsgLfLIRTSg9jtwnI",
   "include_colab_link": true,
   "provenance": []
  },
  "kernelspec": {
   "display_name": "Python 3",
   "name": "python3"
  },
  "language_info": {
   "codemirror_mode": {
    "name": "ipython",
    "version": 3
   },
   "file_extension": ".py",
   "mimetype": "text/x-python",
   "name": "python",
   "nbconvert_exporter": "python",
   "pygments_lexer": "ipython3",
   "version": "3.11.2"
  }
 },
 "nbformat": 4,
 "nbformat_minor": 0
}
